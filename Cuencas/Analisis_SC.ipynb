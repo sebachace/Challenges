{
 "cells": [
  {
   "cell_type": "markdown",
   "metadata": {},
   "source": [
    "# Analisis de las cuencas hidrográficas\n",
    "## Versión SC"
   ]
  },
  {
   "cell_type": "code",
   "execution_count": 2,
   "metadata": {},
   "outputs": [],
   "source": [
    "import pandas as pd\n",
    "import matplotlib.pyplot as plt\n",
    "import os\n",
    "import glob # To make code easily replicable\n",
    "import numpy as np"
   ]
  },
  {
   "cell_type": "code",
   "execution_count": 3,
   "metadata": {},
   "outputs": [],
   "source": [
    "cwd = dir_path = os.path.abspath('')\n",
    "plt.rcParams['agg.path.chunksize'] = 10000\n",
    "\n"
   ]
  },
  {
   "cell_type": "code",
   "execution_count": 4,
   "metadata": {},
   "outputs": [
    {
     "data": {
      "text/plain": [
       "'C:\\\\Users\\\\c-ba7\\\\Documents\\\\Github\\\\Challenges\\\\Cuencas'"
      ]
     },
     "execution_count": 4,
     "metadata": {},
     "output_type": "execute_result"
    }
   ],
   "source": [
    "cwd"
   ]
  },
  {
   "cell_type": "code",
   "execution_count": 5,
   "metadata": {},
   "outputs": [],
   "source": [
    "base_path = cwd + \"\\\\caudal_extra.csv\"\n",
    "base = pd.read_csv(base_path)\n",
    "base[\"fecha\"] = base[\"fecha\"].astype('datetime64[ns]')"
   ]
  },
  {
   "cell_type": "code",
   "execution_count": 6,
   "metadata": {},
   "outputs": [
    {
     "data": {
      "text/html": [
       "<div>\n",
       "<style scoped>\n",
       "    .dataframe tbody tr th:only-of-type {\n",
       "        vertical-align: middle;\n",
       "    }\n",
       "\n",
       "    .dataframe tbody tr th {\n",
       "        vertical-align: top;\n",
       "    }\n",
       "\n",
       "    .dataframe thead th {\n",
       "        text-align: right;\n",
       "    }\n",
       "</style>\n",
       "<table border=\"1\" class=\"dataframe\">\n",
       "  <thead>\n",
       "    <tr style=\"text-align: right;\">\n",
       "      <th></th>\n",
       "      <th>Unnamed: 0</th>\n",
       "      <th>codigo_estacion</th>\n",
       "      <th>altura</th>\n",
       "      <th>latitud</th>\n",
       "      <th>longitud</th>\n",
       "      <th>codigo_cuenca</th>\n",
       "      <th>cantidad_observaciones</th>\n",
       "      <th>caudal</th>\n",
       "      <th>gauge_id</th>\n",
       "      <th>precip_promedio</th>\n",
       "      <th>temp_max_promedio</th>\n",
       "    </tr>\n",
       "  </thead>\n",
       "  <tbody>\n",
       "    <tr>\n",
       "      <th>count</th>\n",
       "      <td>1.411180e+06</td>\n",
       "      <td>1.411180e+06</td>\n",
       "      <td>1.411180e+06</td>\n",
       "      <td>1.411180e+06</td>\n",
       "      <td>1.411180e+06</td>\n",
       "      <td>1.411180e+06</td>\n",
       "      <td>1.411180e+06</td>\n",
       "      <td>1.411180e+06</td>\n",
       "      <td>1.411180e+06</td>\n",
       "      <td>1.383413e+06</td>\n",
       "      <td>1.259617e+06</td>\n",
       "    </tr>\n",
       "    <tr>\n",
       "      <th>mean</th>\n",
       "      <td>7.055895e+05</td>\n",
       "      <td>6.279953e+06</td>\n",
       "      <td>5.855691e+02</td>\n",
       "      <td>-3.367748e+01</td>\n",
       "      <td>-7.121826e+01</td>\n",
       "      <td>6.255881e+01</td>\n",
       "      <td>1.573983e+04</td>\n",
       "      <td>9.552229e+01</td>\n",
       "      <td>6.279953e+06</td>\n",
       "      <td>1.921009e+00</td>\n",
       "      <td>1.921110e+01</td>\n",
       "    </tr>\n",
       "    <tr>\n",
       "      <th>std</th>\n",
       "      <td>4.073727e+05</td>\n",
       "      <td>2.891695e+06</td>\n",
       "      <td>8.652682e+02</td>\n",
       "      <td>6.940820e+00</td>\n",
       "      <td>1.174363e+00</td>\n",
       "      <td>2.839921e+01</td>\n",
       "      <td>7.545197e+03</td>\n",
       "      <td>2.526337e+02</td>\n",
       "      <td>2.891695e+06</td>\n",
       "      <td>7.361936e+00</td>\n",
       "      <td>7.307081e+00</td>\n",
       "    </tr>\n",
       "    <tr>\n",
       "      <th>min</th>\n",
       "      <td>0.000000e+00</td>\n",
       "      <td>1.020003e+06</td>\n",
       "      <td>0.000000e+00</td>\n",
       "      <td>-5.404110e+01</td>\n",
       "      <td>-7.328330e+01</td>\n",
       "      <td>1.000000e+01</td>\n",
       "      <td>8.020000e+02</td>\n",
       "      <td>0.000000e+00</td>\n",
       "      <td>1.020003e+06</td>\n",
       "      <td>0.000000e+00</td>\n",
       "      <td>-1.905000e+01</td>\n",
       "    </tr>\n",
       "    <tr>\n",
       "      <th>25%</th>\n",
       "      <td>3.527948e+05</td>\n",
       "      <td>4.320001e+06</td>\n",
       "      <td>4.500000e+01</td>\n",
       "      <td>-3.721190e+01</td>\n",
       "      <td>-7.206810e+01</td>\n",
       "      <td>4.300000e+01</td>\n",
       "      <td>1.025500e+04</td>\n",
       "      <td>1.250000e+00</td>\n",
       "      <td>4.320001e+06</td>\n",
       "      <td>0.000000e+00</td>\n",
       "      <td>1.370000e+01</td>\n",
       "    </tr>\n",
       "    <tr>\n",
       "      <th>50%</th>\n",
       "      <td>7.055895e+05</td>\n",
       "      <td>5.734001e+06</td>\n",
       "      <td>3.950000e+02</td>\n",
       "      <td>-3.359390e+01</td>\n",
       "      <td>-7.125470e+01</td>\n",
       "      <td>5.700000e+01</td>\n",
       "      <td>1.488900e+04</td>\n",
       "      <td>8.950000e+00</td>\n",
       "      <td>5.734001e+06</td>\n",
       "      <td>0.000000e+00</td>\n",
       "      <td>1.908429e+01</td>\n",
       "    </tr>\n",
       "    <tr>\n",
       "      <th>75%</th>\n",
       "      <td>1.058384e+06</td>\n",
       "      <td>8.308000e+06</td>\n",
       "      <td>7.500000e+02</td>\n",
       "      <td>-2.994580e+01</td>\n",
       "      <td>-7.053280e+01</td>\n",
       "      <td>8.300000e+01</td>\n",
       "      <td>2.061100e+04</td>\n",
       "      <td>6.970000e+01</td>\n",
       "      <td>8.308000e+06</td>\n",
       "      <td>0.000000e+00</td>\n",
       "      <td>2.520000e+01</td>\n",
       "    </tr>\n",
       "    <tr>\n",
       "      <th>max</th>\n",
       "      <td>1.411179e+06</td>\n",
       "      <td>1.287600e+07</td>\n",
       "      <td>4.370000e+03</td>\n",
       "      <td>-1.823250e+01</td>\n",
       "      <td>-6.814390e+01</td>\n",
       "      <td>1.280000e+02</td>\n",
       "      <td>3.666700e+04</td>\n",
       "      <td>1.580500e+04</td>\n",
       "      <td>1.287600e+07</td>\n",
       "      <td>2.586000e+02</td>\n",
       "      <td>4.150000e+01</td>\n",
       "    </tr>\n",
       "  </tbody>\n",
       "</table>\n",
       "</div>"
      ],
      "text/plain": [
       "         Unnamed: 0  codigo_estacion        altura       latitud  \\\n",
       "count  1.411180e+06     1.411180e+06  1.411180e+06  1.411180e+06   \n",
       "mean   7.055895e+05     6.279953e+06  5.855691e+02 -3.367748e+01   \n",
       "std    4.073727e+05     2.891695e+06  8.652682e+02  6.940820e+00   \n",
       "min    0.000000e+00     1.020003e+06  0.000000e+00 -5.404110e+01   \n",
       "25%    3.527948e+05     4.320001e+06  4.500000e+01 -3.721190e+01   \n",
       "50%    7.055895e+05     5.734001e+06  3.950000e+02 -3.359390e+01   \n",
       "75%    1.058384e+06     8.308000e+06  7.500000e+02 -2.994580e+01   \n",
       "max    1.411179e+06     1.287600e+07  4.370000e+03 -1.823250e+01   \n",
       "\n",
       "           longitud  codigo_cuenca  cantidad_observaciones        caudal  \\\n",
       "count  1.411180e+06   1.411180e+06            1.411180e+06  1.411180e+06   \n",
       "mean  -7.121826e+01   6.255881e+01            1.573983e+04  9.552229e+01   \n",
       "std    1.174363e+00   2.839921e+01            7.545197e+03  2.526337e+02   \n",
       "min   -7.328330e+01   1.000000e+01            8.020000e+02  0.000000e+00   \n",
       "25%   -7.206810e+01   4.300000e+01            1.025500e+04  1.250000e+00   \n",
       "50%   -7.125470e+01   5.700000e+01            1.488900e+04  8.950000e+00   \n",
       "75%   -7.053280e+01   8.300000e+01            2.061100e+04  6.970000e+01   \n",
       "max   -6.814390e+01   1.280000e+02            3.666700e+04  1.580500e+04   \n",
       "\n",
       "           gauge_id  precip_promedio  temp_max_promedio  \n",
       "count  1.411180e+06     1.383413e+06       1.259617e+06  \n",
       "mean   6.279953e+06     1.921009e+00       1.921110e+01  \n",
       "std    2.891695e+06     7.361936e+00       7.307081e+00  \n",
       "min    1.020003e+06     0.000000e+00      -1.905000e+01  \n",
       "25%    4.320001e+06     0.000000e+00       1.370000e+01  \n",
       "50%    5.734001e+06     0.000000e+00       1.908429e+01  \n",
       "75%    8.308000e+06     0.000000e+00       2.520000e+01  \n",
       "max    1.287600e+07     2.586000e+02       4.150000e+01  "
      ]
     },
     "execution_count": 6,
     "metadata": {},
     "output_type": "execute_result"
    }
   ],
   "source": [
    "base.describe()"
   ]
  },
  {
   "cell_type": "code",
   "execution_count": 7,
   "metadata": {
    "collapsed": true
   },
   "outputs": [
    {
     "name": "stdout",
     "output_type": "stream",
     "text": [
      "<class 'pandas.core.frame.DataFrame'>\n",
      "RangeIndex: 1411180 entries, 0 to 1411179\n",
      "Data columns (total 17 columns):\n",
      " #   Column                  Non-Null Count    Dtype         \n",
      "---  ------                  --------------    -----         \n",
      " 0   Unnamed: 0              1411180 non-null  int64         \n",
      " 1   codigo_estacion         1411180 non-null  int64         \n",
      " 2   institucion             1411180 non-null  object        \n",
      " 3   fuente                  1411180 non-null  object        \n",
      " 4   nombre                  1411180 non-null  object        \n",
      " 5   altura                  1411180 non-null  int64         \n",
      " 6   latitud                 1411180 non-null  float64       \n",
      " 7   longitud                1411180 non-null  float64       \n",
      " 8   codigo_cuenca           1411180 non-null  int64         \n",
      " 9   nombre_sub_cuenca       1411180 non-null  object        \n",
      " 10  cantidad_observaciones  1411180 non-null  int64         \n",
      " 11  fecha                   1411180 non-null  datetime64[ns]\n",
      " 12  caudal                  1411180 non-null  float64       \n",
      " 13  gauge_id                1411180 non-null  int64         \n",
      " 14  gauge_name              1411180 non-null  object        \n",
      " 15  precip_promedio         1383413 non-null  float64       \n",
      " 16  temp_max_promedio       1259617 non-null  float64       \n",
      "dtypes: datetime64[ns](1), float64(5), int64(6), object(5)\n",
      "memory usage: 183.0+ MB\n"
     ]
    }
   ],
   "source": [
    "base.info()"
   ]
  },
  {
   "cell_type": "code",
   "execution_count": 8,
   "metadata": {},
   "outputs": [
    {
     "data": {
      "text/plain": [
       "29"
      ]
     },
     "execution_count": 8,
     "metadata": {},
     "output_type": "execute_result"
    }
   ],
   "source": [
    "base.codigo_cuenca.nunique()"
   ]
  },
  {
   "cell_type": "code",
   "execution_count": 9,
   "metadata": {},
   "outputs": [
    {
     "data": {
      "text/html": [
       "<div>\n",
       "<style scoped>\n",
       "    .dataframe tbody tr th:only-of-type {\n",
       "        vertical-align: middle;\n",
       "    }\n",
       "\n",
       "    .dataframe tbody tr th {\n",
       "        vertical-align: top;\n",
       "    }\n",
       "\n",
       "    .dataframe thead th {\n",
       "        text-align: right;\n",
       "    }\n",
       "</style>\n",
       "<table border=\"1\" class=\"dataframe\">\n",
       "  <thead>\n",
       "    <tr style=\"text-align: right;\">\n",
       "      <th></th>\n",
       "      <th>Unnamed: 0</th>\n",
       "      <th>codigo_estacion</th>\n",
       "      <th>altura</th>\n",
       "      <th>latitud</th>\n",
       "      <th>longitud</th>\n",
       "      <th>codigo_cuenca</th>\n",
       "      <th>cantidad_observaciones</th>\n",
       "      <th>caudal</th>\n",
       "      <th>gauge_id</th>\n",
       "      <th>precip_promedio</th>\n",
       "      <th>temp_max_promedio</th>\n",
       "    </tr>\n",
       "  </thead>\n",
       "  <tbody>\n",
       "    <tr>\n",
       "      <th>0</th>\n",
       "      <td>0</td>\n",
       "      <td>4540001</td>\n",
       "      <td>310</td>\n",
       "      <td>-30.683300</td>\n",
       "      <td>-71.050003</td>\n",
       "      <td>45</td>\n",
       "      <td>11575</td>\n",
       "      <td>0.812</td>\n",
       "      <td>4540001</td>\n",
       "      <td>0.00</td>\n",
       "      <td>NaN</td>\n",
       "    </tr>\n",
       "    <tr>\n",
       "      <th>1</th>\n",
       "      <td>1</td>\n",
       "      <td>4540001</td>\n",
       "      <td>310</td>\n",
       "      <td>-30.683300</td>\n",
       "      <td>-71.050003</td>\n",
       "      <td>45</td>\n",
       "      <td>11575</td>\n",
       "      <td>0.236</td>\n",
       "      <td>4540001</td>\n",
       "      <td>0.00</td>\n",
       "      <td>NaN</td>\n",
       "    </tr>\n",
       "    <tr>\n",
       "      <th>2</th>\n",
       "      <td>2</td>\n",
       "      <td>4540001</td>\n",
       "      <td>310</td>\n",
       "      <td>-30.683300</td>\n",
       "      <td>-71.050003</td>\n",
       "      <td>45</td>\n",
       "      <td>11575</td>\n",
       "      <td>0.730</td>\n",
       "      <td>4540001</td>\n",
       "      <td>0.00</td>\n",
       "      <td>NaN</td>\n",
       "    </tr>\n",
       "    <tr>\n",
       "      <th>3</th>\n",
       "      <td>3</td>\n",
       "      <td>4540001</td>\n",
       "      <td>310</td>\n",
       "      <td>-30.683300</td>\n",
       "      <td>-71.050003</td>\n",
       "      <td>45</td>\n",
       "      <td>11575</td>\n",
       "      <td>3.590</td>\n",
       "      <td>4540001</td>\n",
       "      <td>0.00</td>\n",
       "      <td>NaN</td>\n",
       "    </tr>\n",
       "    <tr>\n",
       "      <th>4</th>\n",
       "      <td>4</td>\n",
       "      <td>4540001</td>\n",
       "      <td>310</td>\n",
       "      <td>-30.683300</td>\n",
       "      <td>-71.050003</td>\n",
       "      <td>45</td>\n",
       "      <td>11575</td>\n",
       "      <td>1.370</td>\n",
       "      <td>4540001</td>\n",
       "      <td>0.00</td>\n",
       "      <td>NaN</td>\n",
       "    </tr>\n",
       "    <tr>\n",
       "      <th>...</th>\n",
       "      <td>...</td>\n",
       "      <td>...</td>\n",
       "      <td>...</td>\n",
       "      <td>...</td>\n",
       "      <td>...</td>\n",
       "      <td>...</td>\n",
       "      <td>...</td>\n",
       "      <td>...</td>\n",
       "      <td>...</td>\n",
       "      <td>...</td>\n",
       "      <td>...</td>\n",
       "    </tr>\n",
       "    <tr>\n",
       "      <th>1411175</th>\n",
       "      <td>1411175</td>\n",
       "      <td>7322001</td>\n",
       "      <td>90</td>\n",
       "      <td>-35.557499</td>\n",
       "      <td>-71.706703</td>\n",
       "      <td>73</td>\n",
       "      <td>18006</td>\n",
       "      <td>46.885</td>\n",
       "      <td>7322001</td>\n",
       "      <td>0.00</td>\n",
       "      <td>12.975000</td>\n",
       "    </tr>\n",
       "    <tr>\n",
       "      <th>1411176</th>\n",
       "      <td>1411176</td>\n",
       "      <td>7322001</td>\n",
       "      <td>90</td>\n",
       "      <td>-35.557499</td>\n",
       "      <td>-71.706703</td>\n",
       "      <td>73</td>\n",
       "      <td>18006</td>\n",
       "      <td>195.978</td>\n",
       "      <td>7322001</td>\n",
       "      <td>0.00</td>\n",
       "      <td>22.665714</td>\n",
       "    </tr>\n",
       "    <tr>\n",
       "      <th>1411177</th>\n",
       "      <td>1411177</td>\n",
       "      <td>7322001</td>\n",
       "      <td>90</td>\n",
       "      <td>-35.557499</td>\n",
       "      <td>-71.706703</td>\n",
       "      <td>73</td>\n",
       "      <td>18006</td>\n",
       "      <td>124.327</td>\n",
       "      <td>7322001</td>\n",
       "      <td>1.91</td>\n",
       "      <td>20.757143</td>\n",
       "    </tr>\n",
       "    <tr>\n",
       "      <th>1411178</th>\n",
       "      <td>1411178</td>\n",
       "      <td>7322001</td>\n",
       "      <td>90</td>\n",
       "      <td>-35.557499</td>\n",
       "      <td>-71.706703</td>\n",
       "      <td>73</td>\n",
       "      <td>18006</td>\n",
       "      <td>23.682</td>\n",
       "      <td>7322001</td>\n",
       "      <td>0.00</td>\n",
       "      <td>27.598333</td>\n",
       "    </tr>\n",
       "    <tr>\n",
       "      <th>1411179</th>\n",
       "      <td>1411179</td>\n",
       "      <td>7322001</td>\n",
       "      <td>90</td>\n",
       "      <td>-35.557499</td>\n",
       "      <td>-71.706703</td>\n",
       "      <td>73</td>\n",
       "      <td>18006</td>\n",
       "      <td>18.437</td>\n",
       "      <td>7322001</td>\n",
       "      <td>0.00</td>\n",
       "      <td>28.497999</td>\n",
       "    </tr>\n",
       "  </tbody>\n",
       "</table>\n",
       "<p>1411180 rows × 11 columns</p>\n",
       "</div>"
      ],
      "text/plain": [
       "         Unnamed: 0  codigo_estacion  altura    latitud   longitud  \\\n",
       "0                 0          4540001     310 -30.683300 -71.050003   \n",
       "1                 1          4540001     310 -30.683300 -71.050003   \n",
       "2                 2          4540001     310 -30.683300 -71.050003   \n",
       "3                 3          4540001     310 -30.683300 -71.050003   \n",
       "4                 4          4540001     310 -30.683300 -71.050003   \n",
       "...             ...              ...     ...        ...        ...   \n",
       "1411175     1411175          7322001      90 -35.557499 -71.706703   \n",
       "1411176     1411176          7322001      90 -35.557499 -71.706703   \n",
       "1411177     1411177          7322001      90 -35.557499 -71.706703   \n",
       "1411178     1411178          7322001      90 -35.557499 -71.706703   \n",
       "1411179     1411179          7322001      90 -35.557499 -71.706703   \n",
       "\n",
       "         codigo_cuenca  cantidad_observaciones   caudal  gauge_id  \\\n",
       "0                   45                   11575    0.812   4540001   \n",
       "1                   45                   11575    0.236   4540001   \n",
       "2                   45                   11575    0.730   4540001   \n",
       "3                   45                   11575    3.590   4540001   \n",
       "4                   45                   11575    1.370   4540001   \n",
       "...                ...                     ...      ...       ...   \n",
       "1411175             73                   18006   46.885   7322001   \n",
       "1411176             73                   18006  195.978   7322001   \n",
       "1411177             73                   18006  124.327   7322001   \n",
       "1411178             73                   18006   23.682   7322001   \n",
       "1411179             73                   18006   18.437   7322001   \n",
       "\n",
       "         precip_promedio  temp_max_promedio  \n",
       "0                   0.00                NaN  \n",
       "1                   0.00                NaN  \n",
       "2                   0.00                NaN  \n",
       "3                   0.00                NaN  \n",
       "4                   0.00                NaN  \n",
       "...                  ...                ...  \n",
       "1411175             0.00          12.975000  \n",
       "1411176             0.00          22.665714  \n",
       "1411177             1.91          20.757143  \n",
       "1411178             0.00          27.598333  \n",
       "1411179             0.00          28.497999  \n",
       "\n",
       "[1411180 rows x 11 columns]"
      ]
     },
     "execution_count": 9,
     "metadata": {},
     "output_type": "execute_result"
    }
   ],
   "source": [
    "treat = base.head(100000)\n",
    "\n",
    "# Creamos una BD con solo no valores numericos\n",
    "base_obj = base.select_dtypes(include=[object, 'datetime'])\n",
    "base_num = base.drop(base.select_dtypes(include=[object, 'datetime']),axis=1)\n",
    "base_num"
   ]
  },
  {
   "cell_type": "code",
   "execution_count": 10,
   "metadata": {},
   "outputs": [
    {
     "data": {
      "text/plain": [
       "<matplotlib.collections.PathCollection at 0x1f3e39e7f60>"
      ]
     },
     "execution_count": 10,
     "metadata": {},
     "output_type": "execute_result"
    },
    {
     "data": {
      "image/png": "[encoded data removed]",
      "text/plain": [
       "<Figure size 432x288 with 1 Axes>"
      ]
     },
     "metadata": {
      "needs_background": "light"
     },
     "output_type": "display_data"
    }
   ],
   "source": [
    "plt.scatter(base[\"latitud\"], base[\"longitud\"], c = base[\"caudal\"] )"
   ]
  },
  {
   "cell_type": "code",
   "execution_count": 11,
   "metadata": {},
   "outputs": [
    {
     "data": {
      "text/plain": [
       "(array([1.405644e+06, 4.692000e+03, 5.980000e+02, 1.590000e+02,\n",
       "        5.700000e+01, 1.500000e+01, 8.000000e+00, 2.000000e+00,\n",
       "        4.000000e+00, 1.000000e+00]),\n",
       " array([    0. ,  1580.5,  3161. ,  4741.5,  6322. ,  7902.5,  9483. ,\n",
       "        11063.5, 12644. , 14224.5, 15805. ]),\n",
       " <a list of 10 Patch objects>)"
      ]
     },
     "execution_count": 11,
     "metadata": {},
     "output_type": "execute_result"
    },
    {
     "data": {
      "image/png": "[encoded data removed]",
      "text/plain": [
       "<Figure size 432x288 with 1 Axes>"
      ]
     },
     "metadata": {
      "needs_background": "light"
     },
     "output_type": "display_data"
    }
   ],
   "source": [
    "plt.hist(base_num[\"caudal\"], bins = 10)"
   ]
  },
  {
   "cell_type": "code",
   "execution_count": 12,
   "metadata": {},
   "outputs": [
    {
     "data": {
      "text/plain": [
       "<matplotlib.collections.PathCollection at 0x1f3d9d42e48>"
      ]
     },
     "execution_count": 12,
     "metadata": {},
     "output_type": "execute_result"
    },
    {
     "data": {
      "image/png": "[encoded data removed]",
      "text/plain": [
       "<Figure size 432x288 with 1 Axes>"
      ]
     },
     "metadata": {
      "needs_background": "light"
     },
     "output_type": "display_data"
    }
   ],
   "source": [
    "plt.scatter(base_num[\"caudal\"], base_num[\"latitud\"])"
   ]
  },
  {
   "cell_type": "code",
   "execution_count": 13,
   "metadata": {},
   "outputs": [],
   "source": [
    "def time_plot_una_estacion(base, codigo_estacion, columna, fecha_min, fecha_max):\n",
    "#     if base[columna] == \"O\":\n",
    "#         return(\"No se puede plotear un valor no numérico\")\n",
    "    test = base[(base[\"codigo_estacion\"] == codigo_estacion) &\n",
    "               (base[\"fecha\"] > fecha_min) &\n",
    "                (base[\"fecha\"] < fecha_max)\n",
    "               ]\n",
    "    \n",
    "    plt.plot(test[\"fecha\"], test[columna])\n",
    "    return(test)\n",
    "    \n"
   ]
  },
  {
   "cell_type": "code",
   "execution_count": 14,
   "metadata": {
    "scrolled": false
   },
   "outputs": [],
   "source": [
    "from sklearn.preprocessing import MinMaxScaler\n",
    "\n",
    "def time_plot_varias_estacion(base, codigo_estacion, columnas, fecha_min, fecha_max):\n",
    "#     if base[columna] == \"O\":\n",
    "#         return(\"No se puede plotear un valor no numérico\")\n",
    "    test = base[(base[\"codigo_estacion\"] == codigo_estacion) &\n",
    "               (base[\"fecha\"] > fecha_min) &\n",
    "                (base[\"fecha\"] < fecha_max)\n",
    "               ]\n",
    "    test = test.sort_values(\"fecha\")\n",
    "    scaler = MinMaxScaler() \n",
    "    plt.figure()\n",
    "    for col in columnas:\n",
    "        test[col] =  test[col] = (test[col] - test[col].min()) / (test[col].max() - test[col].min())\n",
    "        plt.plot(test[\"fecha\"], test[col])\n",
    "    plt.show()\n",
    "    return()"
   ]
  },
  {
   "cell_type": "code",
   "execution_count": 15,
   "metadata": {},
   "outputs": [
    {
     "data": {
      "image/png": "[encoded data removed]",
      "text/plain": [
       "<Figure size 432x288 with 1 Axes>"
      ]
     },
     "metadata": {
      "needs_background": "light"
     },
     "output_type": "display_data"
    },
    {
     "data": {
      "text/plain": [
       "()"
      ]
     },
     "execution_count": 15,
     "metadata": {},
     "output_type": "execute_result"
    }
   ],
   "source": [
    "time_plot_varias_estacion(base, 11335002,  [\"caudal\",\"precip_promedio\", \"temp_max_promedio\"], \"2017-01-01\", \"2017-07-01\")"
   ]
  },
  {
   "cell_type": "code",
   "execution_count": 16,
   "metadata": {},
   "outputs": [],
   "source": [
    "Seasons = {10:\"Primavera\",11:\"Primavera\",12:\"Primavera\",1:\"Verano\",2:\"Verano\",3:\"Verano\",4:\"Otoño\",5:\"Otoño\",6:\"Otoño\",7:\"Invierno\",8:\"Invierno\",9:\"Invierno\"}\n",
    "base[\"Season\"] = base['fecha'].apply(lambda x: Seasons[x.month])"
   ]
  },
  {
   "cell_type": "code",
   "execution_count": 17,
   "metadata": {},
   "outputs": [
    {
     "data": {
      "text/html": [
       "<div>\n",
       "<style scoped>\n",
       "    .dataframe tbody tr th:only-of-type {\n",
       "        vertical-align: middle;\n",
       "    }\n",
       "\n",
       "    .dataframe tbody tr th {\n",
       "        vertical-align: top;\n",
       "    }\n",
       "\n",
       "    .dataframe thead th {\n",
       "        text-align: right;\n",
       "    }\n",
       "</style>\n",
       "<table border=\"1\" class=\"dataframe\">\n",
       "  <thead>\n",
       "    <tr style=\"text-align: right;\">\n",
       "      <th></th>\n",
       "      <th>Unnamed: 0</th>\n",
       "      <th>codigo_estacion</th>\n",
       "      <th>institucion</th>\n",
       "      <th>fuente</th>\n",
       "      <th>nombre</th>\n",
       "      <th>altura</th>\n",
       "      <th>latitud</th>\n",
       "      <th>longitud</th>\n",
       "      <th>codigo_cuenca</th>\n",
       "      <th>nombre_sub_cuenca</th>\n",
       "      <th>cantidad_observaciones</th>\n",
       "      <th>fecha</th>\n",
       "      <th>caudal</th>\n",
       "      <th>gauge_id</th>\n",
       "      <th>gauge_name</th>\n",
       "      <th>precip_promedio</th>\n",
       "      <th>temp_max_promedio</th>\n",
       "      <th>Season</th>\n",
       "    </tr>\n",
       "  </thead>\n",
       "  <tbody>\n",
       "    <tr>\n",
       "      <th>0</th>\n",
       "      <td>0</td>\n",
       "      <td>4540001</td>\n",
       "      <td>DGA</td>\n",
       "      <td>dga_web</td>\n",
       "      <td>Rio Grande En Paloma 1</td>\n",
       "      <td>310</td>\n",
       "      <td>-30.683300</td>\n",
       "      <td>-71.050003</td>\n",
       "      <td>45</td>\n",
       "      <td>Rio Grande Bajo (Entre E Paloma Y Rio Hurtado)</td>\n",
       "      <td>11575</td>\n",
       "      <td>1960-01-06</td>\n",
       "      <td>0.812</td>\n",
       "      <td>4540001</td>\n",
       "      <td>Rio Grande En Paloma 1</td>\n",
       "      <td>0.00</td>\n",
       "      <td>NaN</td>\n",
       "      <td>Verano</td>\n",
       "    </tr>\n",
       "    <tr>\n",
       "      <th>1</th>\n",
       "      <td>1</td>\n",
       "      <td>4540001</td>\n",
       "      <td>DGA</td>\n",
       "      <td>dga_web</td>\n",
       "      <td>Rio Grande En Paloma 1</td>\n",
       "      <td>310</td>\n",
       "      <td>-30.683300</td>\n",
       "      <td>-71.050003</td>\n",
       "      <td>45</td>\n",
       "      <td>Rio Grande Bajo (Entre E Paloma Y Rio Hurtado)</td>\n",
       "      <td>11575</td>\n",
       "      <td>1960-03-27</td>\n",
       "      <td>0.236</td>\n",
       "      <td>4540001</td>\n",
       "      <td>Rio Grande En Paloma 1</td>\n",
       "      <td>0.00</td>\n",
       "      <td>NaN</td>\n",
       "      <td>Verano</td>\n",
       "    </tr>\n",
       "    <tr>\n",
       "      <th>2</th>\n",
       "      <td>2</td>\n",
       "      <td>4540001</td>\n",
       "      <td>DGA</td>\n",
       "      <td>dga_web</td>\n",
       "      <td>Rio Grande En Paloma 1</td>\n",
       "      <td>310</td>\n",
       "      <td>-30.683300</td>\n",
       "      <td>-71.050003</td>\n",
       "      <td>45</td>\n",
       "      <td>Rio Grande Bajo (Entre E Paloma Y Rio Hurtado)</td>\n",
       "      <td>11575</td>\n",
       "      <td>1960-05-07</td>\n",
       "      <td>0.730</td>\n",
       "      <td>4540001</td>\n",
       "      <td>Rio Grande En Paloma 1</td>\n",
       "      <td>0.00</td>\n",
       "      <td>NaN</td>\n",
       "      <td>Otoño</td>\n",
       "    </tr>\n",
       "    <tr>\n",
       "      <th>3</th>\n",
       "      <td>3</td>\n",
       "      <td>4540001</td>\n",
       "      <td>DGA</td>\n",
       "      <td>dga_web</td>\n",
       "      <td>Rio Grande En Paloma 1</td>\n",
       "      <td>310</td>\n",
       "      <td>-30.683300</td>\n",
       "      <td>-71.050003</td>\n",
       "      <td>45</td>\n",
       "      <td>Rio Grande Bajo (Entre E Paloma Y Rio Hurtado)</td>\n",
       "      <td>11575</td>\n",
       "      <td>1960-06-30</td>\n",
       "      <td>3.590</td>\n",
       "      <td>4540001</td>\n",
       "      <td>Rio Grande En Paloma 1</td>\n",
       "      <td>0.00</td>\n",
       "      <td>NaN</td>\n",
       "      <td>Otoño</td>\n",
       "    </tr>\n",
       "    <tr>\n",
       "      <th>4</th>\n",
       "      <td>4</td>\n",
       "      <td>4540001</td>\n",
       "      <td>DGA</td>\n",
       "      <td>dga_web</td>\n",
       "      <td>Rio Grande En Paloma 1</td>\n",
       "      <td>310</td>\n",
       "      <td>-30.683300</td>\n",
       "      <td>-71.050003</td>\n",
       "      <td>45</td>\n",
       "      <td>Rio Grande Bajo (Entre E Paloma Y Rio Hurtado)</td>\n",
       "      <td>11575</td>\n",
       "      <td>1960-07-22</td>\n",
       "      <td>1.370</td>\n",
       "      <td>4540001</td>\n",
       "      <td>Rio Grande En Paloma 1</td>\n",
       "      <td>0.00</td>\n",
       "      <td>NaN</td>\n",
       "      <td>Invierno</td>\n",
       "    </tr>\n",
       "    <tr>\n",
       "      <th>...</th>\n",
       "      <td>...</td>\n",
       "      <td>...</td>\n",
       "      <td>...</td>\n",
       "      <td>...</td>\n",
       "      <td>...</td>\n",
       "      <td>...</td>\n",
       "      <td>...</td>\n",
       "      <td>...</td>\n",
       "      <td>...</td>\n",
       "      <td>...</td>\n",
       "      <td>...</td>\n",
       "      <td>...</td>\n",
       "      <td>...</td>\n",
       "      <td>...</td>\n",
       "      <td>...</td>\n",
       "      <td>...</td>\n",
       "      <td>...</td>\n",
       "      <td>...</td>\n",
       "    </tr>\n",
       "    <tr>\n",
       "      <th>1411175</th>\n",
       "      <td>1411175</td>\n",
       "      <td>7322001</td>\n",
       "      <td>DGA</td>\n",
       "      <td>dga_web</td>\n",
       "      <td>Rio Maule En Longitudinal</td>\n",
       "      <td>90</td>\n",
       "      <td>-35.557499</td>\n",
       "      <td>-71.706703</td>\n",
       "      <td>73</td>\n",
       "      <td>Rio Maule Medio (Entre Rio Claro Y Rio Loncomi...</td>\n",
       "      <td>18006</td>\n",
       "      <td>2017-10-10</td>\n",
       "      <td>46.885</td>\n",
       "      <td>7322001</td>\n",
       "      <td>Rio Maule En Longitudinal</td>\n",
       "      <td>0.00</td>\n",
       "      <td>12.975000</td>\n",
       "      <td>Primavera</td>\n",
       "    </tr>\n",
       "    <tr>\n",
       "      <th>1411176</th>\n",
       "      <td>1411176</td>\n",
       "      <td>7322001</td>\n",
       "      <td>DGA</td>\n",
       "      <td>dga_web</td>\n",
       "      <td>Rio Maule En Longitudinal</td>\n",
       "      <td>90</td>\n",
       "      <td>-35.557499</td>\n",
       "      <td>-71.706703</td>\n",
       "      <td>73</td>\n",
       "      <td>Rio Maule Medio (Entre Rio Claro Y Rio Loncomi...</td>\n",
       "      <td>18006</td>\n",
       "      <td>2017-10-14</td>\n",
       "      <td>195.978</td>\n",
       "      <td>7322001</td>\n",
       "      <td>Rio Maule En Longitudinal</td>\n",
       "      <td>0.00</td>\n",
       "      <td>22.665714</td>\n",
       "      <td>Primavera</td>\n",
       "    </tr>\n",
       "    <tr>\n",
       "      <th>1411177</th>\n",
       "      <td>1411177</td>\n",
       "      <td>7322001</td>\n",
       "      <td>DGA</td>\n",
       "      <td>dga_web</td>\n",
       "      <td>Rio Maule En Longitudinal</td>\n",
       "      <td>90</td>\n",
       "      <td>-35.557499</td>\n",
       "      <td>-71.706703</td>\n",
       "      <td>73</td>\n",
       "      <td>Rio Maule Medio (Entre Rio Claro Y Rio Loncomi...</td>\n",
       "      <td>18006</td>\n",
       "      <td>2018-01-04</td>\n",
       "      <td>124.327</td>\n",
       "      <td>7322001</td>\n",
       "      <td>Rio Maule En Longitudinal</td>\n",
       "      <td>1.91</td>\n",
       "      <td>20.757143</td>\n",
       "      <td>Verano</td>\n",
       "    </tr>\n",
       "    <tr>\n",
       "      <th>1411178</th>\n",
       "      <td>1411178</td>\n",
       "      <td>7322001</td>\n",
       "      <td>DGA</td>\n",
       "      <td>dga_web</td>\n",
       "      <td>Rio Maule En Longitudinal</td>\n",
       "      <td>90</td>\n",
       "      <td>-35.557499</td>\n",
       "      <td>-71.706703</td>\n",
       "      <td>73</td>\n",
       "      <td>Rio Maule Medio (Entre Rio Claro Y Rio Loncomi...</td>\n",
       "      <td>18006</td>\n",
       "      <td>2018-01-29</td>\n",
       "      <td>23.682</td>\n",
       "      <td>7322001</td>\n",
       "      <td>Rio Maule En Longitudinal</td>\n",
       "      <td>0.00</td>\n",
       "      <td>27.598333</td>\n",
       "      <td>Verano</td>\n",
       "    </tr>\n",
       "    <tr>\n",
       "      <th>1411179</th>\n",
       "      <td>1411179</td>\n",
       "      <td>7322001</td>\n",
       "      <td>DGA</td>\n",
       "      <td>dga_web</td>\n",
       "      <td>Rio Maule En Longitudinal</td>\n",
       "      <td>90</td>\n",
       "      <td>-35.557499</td>\n",
       "      <td>-71.706703</td>\n",
       "      <td>73</td>\n",
       "      <td>Rio Maule Medio (Entre Rio Claro Y Rio Loncomi...</td>\n",
       "      <td>18006</td>\n",
       "      <td>2018-02-11</td>\n",
       "      <td>18.437</td>\n",
       "      <td>7322001</td>\n",
       "      <td>Rio Maule En Longitudinal</td>\n",
       "      <td>0.00</td>\n",
       "      <td>28.497999</td>\n",
       "      <td>Verano</td>\n",
       "    </tr>\n",
       "  </tbody>\n",
       "</table>\n",
       "<p>1411180 rows × 18 columns</p>\n",
       "</div>"
      ],
      "text/plain": [
       "         Unnamed: 0  codigo_estacion institucion   fuente  \\\n",
       "0                 0          4540001         DGA  dga_web   \n",
       "1                 1          4540001         DGA  dga_web   \n",
       "2                 2          4540001         DGA  dga_web   \n",
       "3                 3          4540001         DGA  dga_web   \n",
       "4                 4          4540001         DGA  dga_web   \n",
       "...             ...              ...         ...      ...   \n",
       "1411175     1411175          7322001         DGA  dga_web   \n",
       "1411176     1411176          7322001         DGA  dga_web   \n",
       "1411177     1411177          7322001         DGA  dga_web   \n",
       "1411178     1411178          7322001         DGA  dga_web   \n",
       "1411179     1411179          7322001         DGA  dga_web   \n",
       "\n",
       "                            nombre  altura    latitud   longitud  \\\n",
       "0           Rio Grande En Paloma 1     310 -30.683300 -71.050003   \n",
       "1           Rio Grande En Paloma 1     310 -30.683300 -71.050003   \n",
       "2           Rio Grande En Paloma 1     310 -30.683300 -71.050003   \n",
       "3           Rio Grande En Paloma 1     310 -30.683300 -71.050003   \n",
       "4           Rio Grande En Paloma 1     310 -30.683300 -71.050003   \n",
       "...                            ...     ...        ...        ...   \n",
       "1411175  Rio Maule En Longitudinal      90 -35.557499 -71.706703   \n",
       "1411176  Rio Maule En Longitudinal      90 -35.557499 -71.706703   \n",
       "1411177  Rio Maule En Longitudinal      90 -35.557499 -71.706703   \n",
       "1411178  Rio Maule En Longitudinal      90 -35.557499 -71.706703   \n",
       "1411179  Rio Maule En Longitudinal      90 -35.557499 -71.706703   \n",
       "\n",
       "         codigo_cuenca                                  nombre_sub_cuenca  \\\n",
       "0                   45     Rio Grande Bajo (Entre E Paloma Y Rio Hurtado)   \n",
       "1                   45     Rio Grande Bajo (Entre E Paloma Y Rio Hurtado)   \n",
       "2                   45     Rio Grande Bajo (Entre E Paloma Y Rio Hurtado)   \n",
       "3                   45     Rio Grande Bajo (Entre E Paloma Y Rio Hurtado)   \n",
       "4                   45     Rio Grande Bajo (Entre E Paloma Y Rio Hurtado)   \n",
       "...                ...                                                ...   \n",
       "1411175             73  Rio Maule Medio (Entre Rio Claro Y Rio Loncomi...   \n",
       "1411176             73  Rio Maule Medio (Entre Rio Claro Y Rio Loncomi...   \n",
       "1411177             73  Rio Maule Medio (Entre Rio Claro Y Rio Loncomi...   \n",
       "1411178             73  Rio Maule Medio (Entre Rio Claro Y Rio Loncomi...   \n",
       "1411179             73  Rio Maule Medio (Entre Rio Claro Y Rio Loncomi...   \n",
       "\n",
       "         cantidad_observaciones      fecha   caudal  gauge_id  \\\n",
       "0                         11575 1960-01-06    0.812   4540001   \n",
       "1                         11575 1960-03-27    0.236   4540001   \n",
       "2                         11575 1960-05-07    0.730   4540001   \n",
       "3                         11575 1960-06-30    3.590   4540001   \n",
       "4                         11575 1960-07-22    1.370   4540001   \n",
       "...                         ...        ...      ...       ...   \n",
       "1411175                   18006 2017-10-10   46.885   7322001   \n",
       "1411176                   18006 2017-10-14  195.978   7322001   \n",
       "1411177                   18006 2018-01-04  124.327   7322001   \n",
       "1411178                   18006 2018-01-29   23.682   7322001   \n",
       "1411179                   18006 2018-02-11   18.437   7322001   \n",
       "\n",
       "                        gauge_name  precip_promedio  temp_max_promedio  \\\n",
       "0           Rio Grande En Paloma 1             0.00                NaN   \n",
       "1           Rio Grande En Paloma 1             0.00                NaN   \n",
       "2           Rio Grande En Paloma 1             0.00                NaN   \n",
       "3           Rio Grande En Paloma 1             0.00                NaN   \n",
       "4           Rio Grande En Paloma 1             0.00                NaN   \n",
       "...                            ...              ...                ...   \n",
       "1411175  Rio Maule En Longitudinal             0.00          12.975000   \n",
       "1411176  Rio Maule En Longitudinal             0.00          22.665714   \n",
       "1411177  Rio Maule En Longitudinal             1.91          20.757143   \n",
       "1411178  Rio Maule En Longitudinal             0.00          27.598333   \n",
       "1411179  Rio Maule En Longitudinal             0.00          28.497999   \n",
       "\n",
       "            Season  \n",
       "0           Verano  \n",
       "1           Verano  \n",
       "2            Otoño  \n",
       "3            Otoño  \n",
       "4         Invierno  \n",
       "...            ...  \n",
       "1411175  Primavera  \n",
       "1411176  Primavera  \n",
       "1411177     Verano  \n",
       "1411178     Verano  \n",
       "1411179     Verano  \n",
       "\n",
       "[1411180 rows x 18 columns]"
      ]
     },
     "execution_count": 17,
     "metadata": {},
     "output_type": "execute_result"
    }
   ],
   "source": [
    "base"
   ]
  },
  {
   "cell_type": "code",
   "execution_count": 18,
   "metadata": {},
   "outputs": [],
   "source": [
    "base_q5 = base"
   ]
  },
  {
   "cell_type": "code",
   "execution_count": 19,
   "metadata": {},
   "outputs": [],
   "source": [
    "data_agrupada = base.groupby([\"Season\",\"codigo_cuenca\"])\n",
    "caudal_max_95 = data_agrupada[\"caudal\"].quantile(0.95)\n",
    "precipitacion_max_95= data_agrupada[\"precip_promedio\"].quantile(0.95)\n",
    "temperatura_max_95= data_agrupada[\"temp_max_promedio\"].quantile(0.95)\n",
    "\n"
   ]
  },
  {
   "cell_type": "code",
   "execution_count": 20,
   "metadata": {},
   "outputs": [
    {
     "data": {
      "text/plain": [
       "Season    codigo_cuenca\n",
       "Invierno  10                0.000000\n",
       "          12                0.000000\n",
       "          21                0.000000\n",
       "          32                0.033333\n",
       "          34                0.000000\n",
       "                             ...    \n",
       "Verano    113               8.633452\n",
       "          115               6.600000\n",
       "          117              11.000000\n",
       "          122               5.900000\n",
       "          128               6.380000\n",
       "Name: precip_promedio, Length: 116, dtype: float64"
      ]
     },
     "execution_count": 20,
     "metadata": {},
     "output_type": "execute_result"
    }
   ],
   "source": [
    "precipitacion_max_95"
   ]
  },
  {
   "cell_type": "code",
   "execution_count": 21,
   "metadata": {},
   "outputs": [
    {
     "data": {
      "text/plain": [
       "8.300000190734862"
      ]
     },
     "execution_count": 21,
     "metadata": {},
     "output_type": "execute_result"
    }
   ],
   "source": [
    "precipitacion_max_95[\"Invierno\"][115]"
   ]
  },
  {
   "cell_type": "code",
   "execution_count": 22,
   "metadata": {},
   "outputs": [],
   "source": [
    "def label(row):\n",
    "    c = 0\n",
    "    t = 0\n",
    "    p = 0\n",
    "    if row[\"caudal\"] > caudal_max_95[row[\"Season\"]][row[\"codigo_cuenca\"]]:\n",
    "        c = 1\n",
    "    if row[\"temp_max_promedio\"] > temperatura_max_95[row[\"Season\"]][row[\"codigo_cuenca\"]]:\n",
    "        t = 1\n",
    "    if row[\"precip_promedio\"] > precipitacion_max_95[row[\"Season\"]][row[\"codigo_cuenca\"]]:\n",
    "        p = 1\n",
    "    return([c,t,p])\n",
    "    "
   ]
  },
  {
   "cell_type": "code",
   "execution_count": 23,
   "metadata": {},
   "outputs": [],
   "source": [
    "t5 = base_q5.head(100000)"
   ]
  },
  {
   "cell_type": "code",
   "execution_count": 24,
   "metadata": {
    "collapsed": true
   },
   "outputs": [
    {
     "ename": "KeyboardInterrupt",
     "evalue": "",
     "output_type": "error",
     "traceback": [
      "\u001b[1;31m---------------------------------------------------------------------------\u001b[0m",
      "\u001b[1;31mKeyError\u001b[0m                                  Traceback (most recent call last)",
      "\u001b[1;32m~\\.juliapro\\JuliaPro_v1.3.1-2\\Conda_env\\lib\\site-packages\\pandas\\core\\indexes\\multi.py\u001b[0m in \u001b[0;36mget_value\u001b[1;34m(self, series, key)\u001b[0m\n\u001b[0;32m   1488\u001b[0m         \u001b[1;32mtry\u001b[0m\u001b[1;33m:\u001b[0m\u001b[1;33m\u001b[0m\u001b[0m\n\u001b[1;32m-> 1489\u001b[1;33m             \u001b[1;32mreturn\u001b[0m \u001b[0mself\u001b[0m\u001b[1;33m.\u001b[0m\u001b[0m_engine\u001b[0m\u001b[1;33m.\u001b[0m\u001b[0mget_value\u001b[0m\u001b[1;33m(\u001b[0m\u001b[0ms\u001b[0m\u001b[1;33m,\u001b[0m \u001b[0mk\u001b[0m\u001b[1;33m)\u001b[0m\u001b[1;33m\u001b[0m\u001b[0m\n\u001b[0m\u001b[0;32m   1490\u001b[0m         \u001b[1;32mexcept\u001b[0m \u001b[0mKeyError\u001b[0m \u001b[1;32mas\u001b[0m \u001b[0me1\u001b[0m\u001b[1;33m:\u001b[0m\u001b[1;33m\u001b[0m\u001b[0m\n",
      "\u001b[1;32mpandas\\_libs\\index.pyx\u001b[0m in \u001b[0;36mpandas._libs.index.IndexEngine.get_value\u001b[1;34m()\u001b[0m\n",
      "\u001b[1;32mpandas\\_libs\\index.pyx\u001b[0m in \u001b[0;36mpandas._libs.index.IndexEngine.get_value\u001b[1;34m()\u001b[0m\n",
      "\u001b[1;32mpandas\\_libs\\index.pyx\u001b[0m in \u001b[0;36mpandas._libs.index.IndexEngine.get_loc\u001b[1;34m()\u001b[0m\n",
      "\u001b[1;32mpandas\\_libs\\index.pyx\u001b[0m in \u001b[0;36mpandas._libs.index.BaseMultiIndexCodesEngine.get_loc\u001b[1;34m()\u001b[0m\n",
      "\u001b[1;31mKeyError\u001b[0m: 'Otoño'",
      "\nDuring handling of the above exception, another exception occurred:\n",
      "\u001b[1;31mKeyboardInterrupt\u001b[0m                         Traceback (most recent call last)",
      "\u001b[1;32m<ipython-input-24-22eb71ec0bd5>\u001b[0m in \u001b[0;36m<module>\u001b[1;34m\u001b[0m\n\u001b[1;32m----> 1\u001b[1;33m \u001b[0mt5_o\u001b[0m \u001b[1;33m=\u001b[0m \u001b[0mbase_q5\u001b[0m\u001b[1;33m.\u001b[0m\u001b[0mapply\u001b[0m\u001b[1;33m(\u001b[0m\u001b[1;32mlambda\u001b[0m \u001b[0mrow\u001b[0m\u001b[1;33m:\u001b[0m \u001b[0mlabel\u001b[0m\u001b[1;33m(\u001b[0m\u001b[0mrow\u001b[0m\u001b[1;33m)\u001b[0m\u001b[1;33m,\u001b[0m \u001b[0maxis\u001b[0m\u001b[1;33m=\u001b[0m\u001b[1;36m1\u001b[0m\u001b[1;33m)\u001b[0m\u001b[1;33m\u001b[0m\u001b[0m\n\u001b[0m",
      "\u001b[1;32m~\\.juliapro\\JuliaPro_v1.3.1-2\\Conda_env\\lib\\site-packages\\pandas\\core\\frame.py\u001b[0m in \u001b[0;36mapply\u001b[1;34m(self, func, axis, raw, result_type, args, **kwds)\u001b[0m\n\u001b[0;32m   6876\u001b[0m             \u001b[0mkwds\u001b[0m\u001b[1;33m=\u001b[0m\u001b[0mkwds\u001b[0m\u001b[1;33m,\u001b[0m\u001b[1;33m\u001b[0m\u001b[0m\n\u001b[0;32m   6877\u001b[0m         )\n\u001b[1;32m-> 6878\u001b[1;33m         \u001b[1;32mreturn\u001b[0m \u001b[0mop\u001b[0m\u001b[1;33m.\u001b[0m\u001b[0mget_result\u001b[0m\u001b[1;33m(\u001b[0m\u001b[1;33m)\u001b[0m\u001b[1;33m\u001b[0m\u001b[0m\n\u001b[0m\u001b[0;32m   6879\u001b[0m \u001b[1;33m\u001b[0m\u001b[0m\n\u001b[0;32m   6880\u001b[0m     \u001b[1;32mdef\u001b[0m \u001b[0mapplymap\u001b[0m\u001b[1;33m(\u001b[0m\u001b[0mself\u001b[0m\u001b[1;33m,\u001b[0m \u001b[0mfunc\u001b[0m\u001b[1;33m)\u001b[0m \u001b[1;33m->\u001b[0m \u001b[1;34m\"DataFrame\"\u001b[0m\u001b[1;33m:\u001b[0m\u001b[1;33m\u001b[0m\u001b[0m\n",
      "\u001b[1;32m~\\.juliapro\\JuliaPro_v1.3.1-2\\Conda_env\\lib\\site-packages\\pandas\\core\\apply.py\u001b[0m in \u001b[0;36mget_result\u001b[1;34m(self)\u001b[0m\n\u001b[0;32m    184\u001b[0m             \u001b[1;32mreturn\u001b[0m \u001b[0mself\u001b[0m\u001b[1;33m.\u001b[0m\u001b[0mapply_raw\u001b[0m\u001b[1;33m(\u001b[0m\u001b[1;33m)\u001b[0m\u001b[1;33m\u001b[0m\u001b[0m\n\u001b[0;32m    185\u001b[0m \u001b[1;33m\u001b[0m\u001b[0m\n\u001b[1;32m--> 186\u001b[1;33m         \u001b[1;32mreturn\u001b[0m \u001b[0mself\u001b[0m\u001b[1;33m.\u001b[0m\u001b[0mapply_standard\u001b[0m\u001b[1;33m(\u001b[0m\u001b[1;33m)\u001b[0m\u001b[1;33m\u001b[0m\u001b[0m\n\u001b[0m\u001b[0;32m    187\u001b[0m \u001b[1;33m\u001b[0m\u001b[0m\n\u001b[0;32m    188\u001b[0m     \u001b[1;32mdef\u001b[0m \u001b[0mapply_empty_result\u001b[0m\u001b[1;33m(\u001b[0m\u001b[0mself\u001b[0m\u001b[1;33m)\u001b[0m\u001b[1;33m:\u001b[0m\u001b[1;33m\u001b[0m\u001b[0m\n",
      "\u001b[1;32m~\\.juliapro\\JuliaPro_v1.3.1-2\\Conda_env\\lib\\site-packages\\pandas\\core\\apply.py\u001b[0m in \u001b[0;36mapply_standard\u001b[1;34m(self)\u001b[0m\n\u001b[0;32m    294\u001b[0m             \u001b[1;32mtry\u001b[0m\u001b[1;33m:\u001b[0m\u001b[1;33m\u001b[0m\u001b[0m\n\u001b[0;32m    295\u001b[0m                 result = libreduction.compute_reduction(\n\u001b[1;32m--> 296\u001b[1;33m                     \u001b[0mvalues\u001b[0m\u001b[1;33m,\u001b[0m \u001b[0mself\u001b[0m\u001b[1;33m.\u001b[0m\u001b[0mf\u001b[0m\u001b[1;33m,\u001b[0m \u001b[0maxis\u001b[0m\u001b[1;33m=\u001b[0m\u001b[0mself\u001b[0m\u001b[1;33m.\u001b[0m\u001b[0maxis\u001b[0m\u001b[1;33m,\u001b[0m \u001b[0mdummy\u001b[0m\u001b[1;33m=\u001b[0m\u001b[0mdummy\u001b[0m\u001b[1;33m,\u001b[0m \u001b[0mlabels\u001b[0m\u001b[1;33m=\u001b[0m\u001b[0mlabels\u001b[0m\u001b[1;33m\u001b[0m\u001b[0m\n\u001b[0m\u001b[0;32m    297\u001b[0m                 )\n\u001b[0;32m    298\u001b[0m             \u001b[1;32mexcept\u001b[0m \u001b[0mValueError\u001b[0m \u001b[1;32mas\u001b[0m \u001b[0merr\u001b[0m\u001b[1;33m:\u001b[0m\u001b[1;33m\u001b[0m\u001b[0m\n",
      "\u001b[1;32mpandas\\_libs\\reduction.pyx\u001b[0m in \u001b[0;36mpandas._libs.reduction.compute_reduction\u001b[1;34m()\u001b[0m\n",
      "\u001b[1;32mpandas\\_libs\\reduction.pyx\u001b[0m in \u001b[0;36mpandas._libs.reduction.Reducer.get_result\u001b[1;34m()\u001b[0m\n",
      "\u001b[1;32m<ipython-input-24-22eb71ec0bd5>\u001b[0m in \u001b[0;36m<lambda>\u001b[1;34m(row)\u001b[0m\n\u001b[1;32m----> 1\u001b[1;33m \u001b[0mt5_o\u001b[0m \u001b[1;33m=\u001b[0m \u001b[0mbase_q5\u001b[0m\u001b[1;33m.\u001b[0m\u001b[0mapply\u001b[0m\u001b[1;33m(\u001b[0m\u001b[1;32mlambda\u001b[0m \u001b[0mrow\u001b[0m\u001b[1;33m:\u001b[0m \u001b[0mlabel\u001b[0m\u001b[1;33m(\u001b[0m\u001b[0mrow\u001b[0m\u001b[1;33m)\u001b[0m\u001b[1;33m,\u001b[0m \u001b[0maxis\u001b[0m\u001b[1;33m=\u001b[0m\u001b[1;36m1\u001b[0m\u001b[1;33m)\u001b[0m\u001b[1;33m\u001b[0m\u001b[0m\n\u001b[0m",
      "\u001b[1;32m<ipython-input-22-d37685f838ec>\u001b[0m in \u001b[0;36mlabel\u001b[1;34m(row)\u001b[0m\n\u001b[0;32m      7\u001b[0m     \u001b[1;32mif\u001b[0m \u001b[0mrow\u001b[0m\u001b[1;33m[\u001b[0m\u001b[1;34m\"temp_max_promedio\"\u001b[0m\u001b[1;33m]\u001b[0m \u001b[1;33m>\u001b[0m \u001b[0mtemperatura_max_95\u001b[0m\u001b[1;33m[\u001b[0m\u001b[0mrow\u001b[0m\u001b[1;33m[\u001b[0m\u001b[1;34m\"Season\"\u001b[0m\u001b[1;33m]\u001b[0m\u001b[1;33m]\u001b[0m\u001b[1;33m[\u001b[0m\u001b[0mrow\u001b[0m\u001b[1;33m[\u001b[0m\u001b[1;34m\"codigo_cuenca\"\u001b[0m\u001b[1;33m]\u001b[0m\u001b[1;33m]\u001b[0m\u001b[1;33m:\u001b[0m\u001b[1;33m\u001b[0m\u001b[0m\n\u001b[0;32m      8\u001b[0m         \u001b[0mt\u001b[0m \u001b[1;33m=\u001b[0m \u001b[1;36m1\u001b[0m\u001b[1;33m\u001b[0m\u001b[0m\n\u001b[1;32m----> 9\u001b[1;33m     \u001b[1;32mif\u001b[0m \u001b[0mrow\u001b[0m\u001b[1;33m[\u001b[0m\u001b[1;34m\"precip_promedio\"\u001b[0m\u001b[1;33m]\u001b[0m \u001b[1;33m>\u001b[0m \u001b[0mprecipitacion_max_95\u001b[0m\u001b[1;33m[\u001b[0m\u001b[0mrow\u001b[0m\u001b[1;33m[\u001b[0m\u001b[1;34m\"Season\"\u001b[0m\u001b[1;33m]\u001b[0m\u001b[1;33m]\u001b[0m\u001b[1;33m[\u001b[0m\u001b[0mrow\u001b[0m\u001b[1;33m[\u001b[0m\u001b[1;34m\"codigo_cuenca\"\u001b[0m\u001b[1;33m]\u001b[0m\u001b[1;33m]\u001b[0m\u001b[1;33m:\u001b[0m\u001b[1;33m\u001b[0m\u001b[0m\n\u001b[0m\u001b[0;32m     10\u001b[0m         \u001b[0mp\u001b[0m \u001b[1;33m=\u001b[0m \u001b[1;36m1\u001b[0m\u001b[1;33m\u001b[0m\u001b[0m\n\u001b[0;32m     11\u001b[0m     \u001b[1;32mreturn\u001b[0m\u001b[1;33m(\u001b[0m\u001b[1;33m[\u001b[0m\u001b[0mc\u001b[0m\u001b[1;33m,\u001b[0m\u001b[0mt\u001b[0m\u001b[1;33m,\u001b[0m\u001b[0mp\u001b[0m\u001b[1;33m]\u001b[0m\u001b[1;33m)\u001b[0m\u001b[1;33m\u001b[0m\u001b[0m\n",
      "\u001b[1;32m~\\.juliapro\\JuliaPro_v1.3.1-2\\Conda_env\\lib\\site-packages\\pandas\\core\\series.py\u001b[0m in \u001b[0;36m__getitem__\u001b[1;34m(self, key)\u001b[0m\n\u001b[0;32m    869\u001b[0m         \u001b[0mkey\u001b[0m \u001b[1;33m=\u001b[0m \u001b[0mcom\u001b[0m\u001b[1;33m.\u001b[0m\u001b[0mapply_if_callable\u001b[0m\u001b[1;33m(\u001b[0m\u001b[0mkey\u001b[0m\u001b[1;33m,\u001b[0m \u001b[0mself\u001b[0m\u001b[1;33m)\u001b[0m\u001b[1;33m\u001b[0m\u001b[0m\n\u001b[0;32m    870\u001b[0m         \u001b[1;32mtry\u001b[0m\u001b[1;33m:\u001b[0m\u001b[1;33m\u001b[0m\u001b[0m\n\u001b[1;32m--> 871\u001b[1;33m             \u001b[0mresult\u001b[0m \u001b[1;33m=\u001b[0m \u001b[0mself\u001b[0m\u001b[1;33m.\u001b[0m\u001b[0mindex\u001b[0m\u001b[1;33m.\u001b[0m\u001b[0mget_value\u001b[0m\u001b[1;33m(\u001b[0m\u001b[0mself\u001b[0m\u001b[1;33m,\u001b[0m \u001b[0mkey\u001b[0m\u001b[1;33m)\u001b[0m\u001b[1;33m\u001b[0m\u001b[0m\n\u001b[0m\u001b[0;32m    872\u001b[0m \u001b[1;33m\u001b[0m\u001b[0m\n\u001b[0;32m    873\u001b[0m             \u001b[1;32mif\u001b[0m \u001b[1;32mnot\u001b[0m \u001b[0mis_scalar\u001b[0m\u001b[1;33m(\u001b[0m\u001b[0mresult\u001b[0m\u001b[1;33m)\u001b[0m\u001b[1;33m:\u001b[0m\u001b[1;33m\u001b[0m\u001b[0m\n",
      "\u001b[1;32m~\\.juliapro\\JuliaPro_v1.3.1-2\\Conda_env\\lib\\site-packages\\pandas\\core\\indexes\\multi.py\u001b[0m in \u001b[0;36mget_value\u001b[1;34m(self, series, key)\u001b[0m\n\u001b[0;32m   1490\u001b[0m         \u001b[1;32mexcept\u001b[0m \u001b[0mKeyError\u001b[0m \u001b[1;32mas\u001b[0m \u001b[0me1\u001b[0m\u001b[1;33m:\u001b[0m\u001b[1;33m\u001b[0m\u001b[0m\n\u001b[0;32m   1491\u001b[0m             \u001b[1;32mtry\u001b[0m\u001b[1;33m:\u001b[0m\u001b[1;33m\u001b[0m\u001b[0m\n\u001b[1;32m-> 1492\u001b[1;33m                 \u001b[1;32mreturn\u001b[0m \u001b[0m_try_mi\u001b[0m\u001b[1;33m(\u001b[0m\u001b[0mkey\u001b[0m\u001b[1;33m)\u001b[0m\u001b[1;33m\u001b[0m\u001b[0m\n\u001b[0m\u001b[0;32m   1493\u001b[0m             \u001b[1;32mexcept\u001b[0m \u001b[0mKeyError\u001b[0m\u001b[1;33m:\u001b[0m\u001b[1;33m\u001b[0m\u001b[0m\n\u001b[0;32m   1494\u001b[0m                 \u001b[1;32mpass\u001b[0m\u001b[1;33m\u001b[0m\u001b[0m\n",
      "\u001b[1;32m~\\.juliapro\\JuliaPro_v1.3.1-2\\Conda_env\\lib\\site-packages\\pandas\\core\\indexes\\multi.py\u001b[0m in \u001b[0;36m_try_mi\u001b[1;34m(k)\u001b[0m\n\u001b[0;32m   1478\u001b[0m         \u001b[1;32mdef\u001b[0m \u001b[0m_try_mi\u001b[0m\u001b[1;33m(\u001b[0m\u001b[0mk\u001b[0m\u001b[1;33m)\u001b[0m\u001b[1;33m:\u001b[0m\u001b[1;33m\u001b[0m\u001b[0m\n\u001b[0;32m   1479\u001b[0m             \u001b[1;31m# TODO: what if a level contains tuples??\u001b[0m\u001b[1;33m\u001b[0m\u001b[1;33m\u001b[0m\u001b[0m\n\u001b[1;32m-> 1480\u001b[1;33m             \u001b[0mloc\u001b[0m \u001b[1;33m=\u001b[0m \u001b[0mself\u001b[0m\u001b[1;33m.\u001b[0m\u001b[0mget_loc\u001b[0m\u001b[1;33m(\u001b[0m\u001b[0mk\u001b[0m\u001b[1;33m)\u001b[0m\u001b[1;33m\u001b[0m\u001b[0m\n\u001b[0m\u001b[0;32m   1481\u001b[0m             \u001b[0mnew_values\u001b[0m \u001b[1;33m=\u001b[0m \u001b[0mseries\u001b[0m\u001b[1;33m.\u001b[0m\u001b[0m_values\u001b[0m\u001b[1;33m[\u001b[0m\u001b[0mloc\u001b[0m\u001b[1;33m]\u001b[0m\u001b[1;33m\u001b[0m\u001b[0m\n\u001b[0;32m   1482\u001b[0m             \u001b[0mnew_index\u001b[0m \u001b[1;33m=\u001b[0m \u001b[0mself\u001b[0m\u001b[1;33m[\u001b[0m\u001b[0mloc\u001b[0m\u001b[1;33m]\u001b[0m\u001b[1;33m\u001b[0m\u001b[0m\n",
      "\u001b[1;32m~\\.juliapro\\JuliaPro_v1.3.1-2\\Conda_env\\lib\\site-packages\\pandas\\core\\indexes\\multi.py\u001b[0m in \u001b[0;36mget_loc\u001b[1;34m(self, key, method)\u001b[0m\n\u001b[0;32m   2660\u001b[0m         \u001b[1;32mif\u001b[0m \u001b[1;32mnot\u001b[0m \u001b[0misinstance\u001b[0m\u001b[1;33m(\u001b[0m\u001b[0mkey\u001b[0m\u001b[1;33m,\u001b[0m \u001b[1;33m(\u001b[0m\u001b[0mtuple\u001b[0m\u001b[1;33m,\u001b[0m \u001b[0mlist\u001b[0m\u001b[1;33m)\u001b[0m\u001b[1;33m)\u001b[0m\u001b[1;33m:\u001b[0m\u001b[1;33m\u001b[0m\u001b[0m\n\u001b[0;32m   2661\u001b[0m             \u001b[1;31m# not including list here breaks some indexing, xref #30892\u001b[0m\u001b[1;33m\u001b[0m\u001b[1;33m\u001b[0m\u001b[0m\n\u001b[1;32m-> 2662\u001b[1;33m             \u001b[0mloc\u001b[0m \u001b[1;33m=\u001b[0m \u001b[0mself\u001b[0m\u001b[1;33m.\u001b[0m\u001b[0m_get_level_indexer\u001b[0m\u001b[1;33m(\u001b[0m\u001b[0mkey\u001b[0m\u001b[1;33m,\u001b[0m \u001b[0mlevel\u001b[0m\u001b[1;33m=\u001b[0m\u001b[1;36m0\u001b[0m\u001b[1;33m)\u001b[0m\u001b[1;33m\u001b[0m\u001b[0m\n\u001b[0m\u001b[0;32m   2663\u001b[0m             \u001b[1;32mreturn\u001b[0m \u001b[0m_maybe_to_slice\u001b[0m\u001b[1;33m(\u001b[0m\u001b[0mloc\u001b[0m\u001b[1;33m)\u001b[0m\u001b[1;33m\u001b[0m\u001b[0m\n\u001b[0;32m   2664\u001b[0m \u001b[1;33m\u001b[0m\u001b[0m\n",
      "\u001b[1;32m~\\.juliapro\\JuliaPro_v1.3.1-2\\Conda_env\\lib\\site-packages\\pandas\\core\\indexes\\multi.py\u001b[0m in \u001b[0;36m_get_level_indexer\u001b[1;34m(self, key, level, indexer)\u001b[0m\n\u001b[0;32m   2938\u001b[0m \u001b[1;33m\u001b[0m\u001b[0m\n\u001b[0;32m   2939\u001b[0m             \u001b[0mi\u001b[0m \u001b[1;33m=\u001b[0m \u001b[0mlevel_codes\u001b[0m\u001b[1;33m.\u001b[0m\u001b[0msearchsorted\u001b[0m\u001b[1;33m(\u001b[0m\u001b[0mcode\u001b[0m\u001b[1;33m,\u001b[0m \u001b[0mside\u001b[0m\u001b[1;33m=\u001b[0m\u001b[1;34m\"left\"\u001b[0m\u001b[1;33m)\u001b[0m\u001b[1;33m\u001b[0m\u001b[0m\n\u001b[1;32m-> 2940\u001b[1;33m             \u001b[0mj\u001b[0m \u001b[1;33m=\u001b[0m \u001b[0mlevel_codes\u001b[0m\u001b[1;33m.\u001b[0m\u001b[0msearchsorted\u001b[0m\u001b[1;33m(\u001b[0m\u001b[0mcode\u001b[0m\u001b[1;33m,\u001b[0m \u001b[0mside\u001b[0m\u001b[1;33m=\u001b[0m\u001b[1;34m\"right\"\u001b[0m\u001b[1;33m)\u001b[0m\u001b[1;33m\u001b[0m\u001b[0m\n\u001b[0m\u001b[0;32m   2941\u001b[0m             \u001b[1;32mif\u001b[0m \u001b[0mi\u001b[0m \u001b[1;33m==\u001b[0m \u001b[0mj\u001b[0m\u001b[1;33m:\u001b[0m\u001b[1;33m\u001b[0m\u001b[0m\n\u001b[0;32m   2942\u001b[0m                 \u001b[1;31m# The label is present in self.levels[level] but unused:\u001b[0m\u001b[1;33m\u001b[0m\u001b[1;33m\u001b[0m\u001b[0m\n",
      "\u001b[1;31mKeyboardInterrupt\u001b[0m: "
     ]
    }
   ],
   "source": [
    "t5_o = base_q5.apply(lambda row: label(row), axis=1)"
   ]
  },
  {
   "cell_type": "code",
   "execution_count": 25,
   "metadata": {},
   "outputs": [],
   "source": [
    "base_q5[\"caudal_extremo\"] = base_q5[\"caudal\"].map"
   ]
  },
  {
   "cell_type": "code",
   "execution_count": 26,
   "metadata": {},
   "outputs": [],
   "source": [
    "base_q5[\"caudal_95\"] = 0\n",
    "base_q5[\"temp_95\"] = 0\n",
    "base_q5[\"precip_95\"] = 0"
   ]
  },
  {
   "cell_type": "code",
   "execution_count": 27,
   "metadata": {},
   "outputs": [],
   "source": [
    "for temp in base_q5.Season.unique():\n",
    "    for cod in base_q5.codigo_cuenca.unique():\n",
    "        base_q5.loc[(base_q5[\"Season\"] == temp) & (base_q5[\"codigo_cuenca\"] == cod), \"caudal_95\"] = caudal_max_95[temp][cod]\n",
    "        base_q5.loc[(base_q5[\"Season\"] == temp) & (base_q5[\"codigo_cuenca\"] == cod), \"temp_95\"] = temperatura_max_95[temp][cod]\n",
    "        base_q5.loc[(base_q5[\"Season\"] == temp) & (base_q5[\"codigo_cuenca\"] == cod), \"precip_95\"] = precipitacion_max_95[temp][cod]\n",
    "        "
   ]
  },
  {
   "cell_type": "code",
   "execution_count": null,
   "metadata": {},
   "outputs": [],
   "source": [
    "base[\"Season\"].unique()"
   ]
  },
  {
   "cell_type": "code",
   "execution_count": 28,
   "metadata": {},
   "outputs": [
    {
     "data": {
      "text/html": [
       "<div>\n",
       "<style scoped>\n",
       "    .dataframe tbody tr th:only-of-type {\n",
       "        vertical-align: middle;\n",
       "    }\n",
       "\n",
       "    .dataframe tbody tr th {\n",
       "        vertical-align: top;\n",
       "    }\n",
       "\n",
       "    .dataframe thead th {\n",
       "        text-align: right;\n",
       "    }\n",
       "</style>\n",
       "<table border=\"1\" class=\"dataframe\">\n",
       "  <thead>\n",
       "    <tr style=\"text-align: right;\">\n",
       "      <th></th>\n",
       "      <th>Unnamed: 0</th>\n",
       "      <th>codigo_estacion</th>\n",
       "      <th>institucion</th>\n",
       "      <th>fuente</th>\n",
       "      <th>nombre</th>\n",
       "      <th>altura</th>\n",
       "      <th>latitud</th>\n",
       "      <th>longitud</th>\n",
       "      <th>codigo_cuenca</th>\n",
       "      <th>nombre_sub_cuenca</th>\n",
       "      <th>...</th>\n",
       "      <th>caudal</th>\n",
       "      <th>gauge_id</th>\n",
       "      <th>gauge_name</th>\n",
       "      <th>precip_promedio</th>\n",
       "      <th>temp_max_promedio</th>\n",
       "      <th>Season</th>\n",
       "      <th>caudal_extremo</th>\n",
       "      <th>caudal_95</th>\n",
       "      <th>temp_95</th>\n",
       "      <th>precip_95</th>\n",
       "    </tr>\n",
       "  </thead>\n",
       "  <tbody>\n",
       "    <tr>\n",
       "      <th>0</th>\n",
       "      <td>0</td>\n",
       "      <td>4540001</td>\n",
       "      <td>DGA</td>\n",
       "      <td>dga_web</td>\n",
       "      <td>Rio Grande En Paloma 1</td>\n",
       "      <td>310</td>\n",
       "      <td>-30.6833</td>\n",
       "      <td>-71.050003</td>\n",
       "      <td>45</td>\n",
       "      <td>Rio Grande Bajo (Entre E Paloma Y Rio Hurtado)</td>\n",
       "      <td>...</td>\n",
       "      <td>0.812</td>\n",
       "      <td>4540001</td>\n",
       "      <td>Rio Grande En Paloma 1</td>\n",
       "      <td>0.0</td>\n",
       "      <td>NaN</td>\n",
       "      <td>Verano</td>\n",
       "      <td>&lt;bound method Series.map of 0            0.812...</td>\n",
       "      <td>13.76</td>\n",
       "      <td>31.200001</td>\n",
       "      <td>0.000000</td>\n",
       "    </tr>\n",
       "    <tr>\n",
       "      <th>1</th>\n",
       "      <td>1</td>\n",
       "      <td>4540001</td>\n",
       "      <td>DGA</td>\n",
       "      <td>dga_web</td>\n",
       "      <td>Rio Grande En Paloma 1</td>\n",
       "      <td>310</td>\n",
       "      <td>-30.6833</td>\n",
       "      <td>-71.050003</td>\n",
       "      <td>45</td>\n",
       "      <td>Rio Grande Bajo (Entre E Paloma Y Rio Hurtado)</td>\n",
       "      <td>...</td>\n",
       "      <td>0.236</td>\n",
       "      <td>4540001</td>\n",
       "      <td>Rio Grande En Paloma 1</td>\n",
       "      <td>0.0</td>\n",
       "      <td>NaN</td>\n",
       "      <td>Verano</td>\n",
       "      <td>&lt;bound method Series.map of 0            0.812...</td>\n",
       "      <td>13.76</td>\n",
       "      <td>31.200001</td>\n",
       "      <td>0.000000</td>\n",
       "    </tr>\n",
       "    <tr>\n",
       "      <th>2</th>\n",
       "      <td>2</td>\n",
       "      <td>4540001</td>\n",
       "      <td>DGA</td>\n",
       "      <td>dga_web</td>\n",
       "      <td>Rio Grande En Paloma 1</td>\n",
       "      <td>310</td>\n",
       "      <td>-30.6833</td>\n",
       "      <td>-71.050003</td>\n",
       "      <td>45</td>\n",
       "      <td>Rio Grande Bajo (Entre E Paloma Y Rio Hurtado)</td>\n",
       "      <td>...</td>\n",
       "      <td>0.730</td>\n",
       "      <td>4540001</td>\n",
       "      <td>Rio Grande En Paloma 1</td>\n",
       "      <td>0.0</td>\n",
       "      <td>NaN</td>\n",
       "      <td>Otoño</td>\n",
       "      <td>&lt;bound method Series.map of 0            0.812...</td>\n",
       "      <td>12.00</td>\n",
       "      <td>28.500000</td>\n",
       "      <td>2.166667</td>\n",
       "    </tr>\n",
       "    <tr>\n",
       "      <th>3</th>\n",
       "      <td>3</td>\n",
       "      <td>4540001</td>\n",
       "      <td>DGA</td>\n",
       "      <td>dga_web</td>\n",
       "      <td>Rio Grande En Paloma 1</td>\n",
       "      <td>310</td>\n",
       "      <td>-30.6833</td>\n",
       "      <td>-71.050003</td>\n",
       "      <td>45</td>\n",
       "      <td>Rio Grande Bajo (Entre E Paloma Y Rio Hurtado)</td>\n",
       "      <td>...</td>\n",
       "      <td>3.590</td>\n",
       "      <td>4540001</td>\n",
       "      <td>Rio Grande En Paloma 1</td>\n",
       "      <td>0.0</td>\n",
       "      <td>NaN</td>\n",
       "      <td>Otoño</td>\n",
       "      <td>&lt;bound method Series.map of 0            0.812...</td>\n",
       "      <td>12.00</td>\n",
       "      <td>28.500000</td>\n",
       "      <td>2.166667</td>\n",
       "    </tr>\n",
       "    <tr>\n",
       "      <th>4</th>\n",
       "      <td>4</td>\n",
       "      <td>4540001</td>\n",
       "      <td>DGA</td>\n",
       "      <td>dga_web</td>\n",
       "      <td>Rio Grande En Paloma 1</td>\n",
       "      <td>310</td>\n",
       "      <td>-30.6833</td>\n",
       "      <td>-71.050003</td>\n",
       "      <td>45</td>\n",
       "      <td>Rio Grande Bajo (Entre E Paloma Y Rio Hurtado)</td>\n",
       "      <td>...</td>\n",
       "      <td>1.370</td>\n",
       "      <td>4540001</td>\n",
       "      <td>Rio Grande En Paloma 1</td>\n",
       "      <td>0.0</td>\n",
       "      <td>NaN</td>\n",
       "      <td>Invierno</td>\n",
       "      <td>&lt;bound method Series.map of 0            0.812...</td>\n",
       "      <td>23.40</td>\n",
       "      <td>27.500000</td>\n",
       "      <td>4.560197</td>\n",
       "    </tr>\n",
       "  </tbody>\n",
       "</table>\n",
       "<p>5 rows × 22 columns</p>\n",
       "</div>"
      ],
      "text/plain": [
       "   Unnamed: 0  codigo_estacion institucion   fuente                  nombre  \\\n",
       "0           0          4540001         DGA  dga_web  Rio Grande En Paloma 1   \n",
       "1           1          4540001         DGA  dga_web  Rio Grande En Paloma 1   \n",
       "2           2          4540001         DGA  dga_web  Rio Grande En Paloma 1   \n",
       "3           3          4540001         DGA  dga_web  Rio Grande En Paloma 1   \n",
       "4           4          4540001         DGA  dga_web  Rio Grande En Paloma 1   \n",
       "\n",
       "   altura  latitud   longitud  codigo_cuenca  \\\n",
       "0     310 -30.6833 -71.050003             45   \n",
       "1     310 -30.6833 -71.050003             45   \n",
       "2     310 -30.6833 -71.050003             45   \n",
       "3     310 -30.6833 -71.050003             45   \n",
       "4     310 -30.6833 -71.050003             45   \n",
       "\n",
       "                                nombre_sub_cuenca  ...  caudal gauge_id  \\\n",
       "0  Rio Grande Bajo (Entre E Paloma Y Rio Hurtado)  ...   0.812  4540001   \n",
       "1  Rio Grande Bajo (Entre E Paloma Y Rio Hurtado)  ...   0.236  4540001   \n",
       "2  Rio Grande Bajo (Entre E Paloma Y Rio Hurtado)  ...   0.730  4540001   \n",
       "3  Rio Grande Bajo (Entre E Paloma Y Rio Hurtado)  ...   3.590  4540001   \n",
       "4  Rio Grande Bajo (Entre E Paloma Y Rio Hurtado)  ...   1.370  4540001   \n",
       "\n",
       "               gauge_name  precip_promedio temp_max_promedio    Season  \\\n",
       "0  Rio Grande En Paloma 1              0.0               NaN    Verano   \n",
       "1  Rio Grande En Paloma 1              0.0               NaN    Verano   \n",
       "2  Rio Grande En Paloma 1              0.0               NaN     Otoño   \n",
       "3  Rio Grande En Paloma 1              0.0               NaN     Otoño   \n",
       "4  Rio Grande En Paloma 1              0.0               NaN  Invierno   \n",
       "\n",
       "                                      caudal_extremo caudal_95    temp_95  \\\n",
       "0  <bound method Series.map of 0            0.812...     13.76  31.200001   \n",
       "1  <bound method Series.map of 0            0.812...     13.76  31.200001   \n",
       "2  <bound method Series.map of 0            0.812...     12.00  28.500000   \n",
       "3  <bound method Series.map of 0            0.812...     12.00  28.500000   \n",
       "4  <bound method Series.map of 0            0.812...     23.40  27.500000   \n",
       "\n",
       "   precip_95  \n",
       "0   0.000000  \n",
       "1   0.000000  \n",
       "2   2.166667  \n",
       "3   2.166667  \n",
       "4   4.560197  \n",
       "\n",
       "[5 rows x 22 columns]"
      ]
     },
     "execution_count": 28,
     "metadata": {},
     "output_type": "execute_result"
    }
   ],
   "source": [
    "base_q5.head()"
   ]
  },
  {
   "cell_type": "code",
   "execution_count": 29,
   "metadata": {},
   "outputs": [],
   "source": [
    "base_q5[\"caudal_95\"] = np.where(base_q5[\"caudal\"] > base_q5[\"caudal_95\"], 1,0)\n",
    "\n",
    "base_q5[\"precip_95\"] = np.where(base_q5[\"precip_promedio\"] > base_q5[\"precip_95\"], 1,0)\n",
    "\n",
    "base_q5[\"temp_95\"] = np.where(base_q5[\"temp_max_promedio\"] > base_q5[\"temp_95\"], 1,0)"
   ]
  },
  {
   "cell_type": "code",
   "execution_count": 33,
   "metadata": {},
   "outputs": [
    {
     "data": {
      "text/plain": [
       "Index(['Unnamed: 0', 'codigo_estacion', 'institucion', 'fuente', 'nombre',\n",
       "       'altura', 'latitud', 'longitud', 'codigo_cuenca', 'nombre_sub_cuenca',\n",
       "       'cantidad_observaciones', 'fecha', 'caudal', 'gauge_id', 'gauge_name',\n",
       "       'precip_promedio', 'temp_max_promedio', 'Season', 'caudal_extremo',\n",
       "       'caudal_95', 'temp_95', 'precip_95'],\n",
       "      dtype='object')"
      ]
     },
     "execution_count": 33,
     "metadata": {},
     "output_type": "execute_result"
    }
   ],
   "source": [
    "base_q5.columns"
   ]
  },
  {
   "cell_type": "code",
   "execution_count": 70,
   "metadata": {},
   "outputs": [],
   "source": [
    "base_q5[\"año\"] = base_q5['fecha'].apply(lambda x: x.year)\n",
    "base_q5[\"mes\"] = base_q5['fecha'].apply(lambda x: x.month)\n",
    "base_q5[\"dia\"] = base_q5['fecha'].apply(lambda x: x.day)"
   ]
  },
  {
   "cell_type": "code",
   "execution_count": 38,
   "metadata": {},
   "outputs": [],
   "source": [
    "aux_caudal = base_q5.loc[(base_q5[\"codigo_cuenca\"]==45)].groupby([\"año\",\"Season\"])[\"caudal_95\"].sum() / base_q5.loc[(base_q5[\"codigo_cuenca\"]==45)].groupby([\"año\",\"Season\"])[\"caudal\"].count() *100"
   ]
  },
  {
   "cell_type": "code",
   "execution_count": 39,
   "metadata": {},
   "outputs": [
    {
     "data": {
      "text/plain": [
       "año   Season   \n",
       "1960  Invierno      0.000000\n",
       "      Otoño         1.289134\n",
       "      Primavera     0.000000\n",
       "      Verano        0.000000\n",
       "1961  Invierno      6.485356\n",
       "                     ...    \n",
       "2017  Invierno      7.829181\n",
       "      Otoño        17.066667\n",
       "      Primavera     2.479339\n",
       "      Verano        0.000000\n",
       "2018  Verano        0.534759\n",
       "Length: 233, dtype: float64"
      ]
     },
     "execution_count": 39,
     "metadata": {},
     "output_type": "execute_result"
    }
   ],
   "source": [
    "aux_caudal"
   ]
  },
  {
   "cell_type": "code",
   "execution_count": 43,
   "metadata": {},
   "outputs": [
    {
     "data": {
      "text/plain": [
       "Index(['Unnamed: 0', 'codigo_estacion', 'institucion', 'fuente', 'nombre',\n",
       "       'altura', 'latitud', 'longitud', 'codigo_cuenca', 'nombre_sub_cuenca',\n",
       "       'cantidad_observaciones', 'fecha', 'caudal', 'gauge_id', 'gauge_name',\n",
       "       'precip_promedio', 'temp_max_promedio', 'Season', 'caudal_extremo',\n",
       "       'caudal_95', 'temp_95', 'precip_95', 'año'],\n",
       "      dtype='object')"
      ]
     },
     "execution_count": 43,
     "metadata": {},
     "output_type": "execute_result"
    }
   ],
   "source": [
    "base_q5.columns"
   ]
  },
  {
   "cell_type": "code",
   "execution_count": 131,
   "metadata": {},
   "outputs": [
    {
     "ename": "ModuleNotFoundError",
     "evalue": "No module named 'sklearn.cross_validation'",
     "output_type": "error",
     "traceback": [
      "\u001b[1;31m---------------------------------------------------------------------------\u001b[0m",
      "\u001b[1;31mModuleNotFoundError\u001b[0m                       Traceback (most recent call last)",
      "\u001b[1;32m<ipython-input-131-b14dd12edf21>\u001b[0m in \u001b[0;36m<module>\u001b[1;34m\u001b[0m\n\u001b[0;32m      3\u001b[0m \u001b[1;32mfrom\u001b[0m \u001b[0msklearn\u001b[0m \u001b[1;32mimport\u001b[0m \u001b[0mmetrics\u001b[0m \u001b[1;31m#Import scikit-learn metrics module for accuracy calculation\u001b[0m\u001b[1;33m\u001b[0m\u001b[0m\n\u001b[0;32m      4\u001b[0m \u001b[1;32mfrom\u001b[0m \u001b[0msklearn\u001b[0m \u001b[1;32mimport\u001b[0m \u001b[0mpreprocessing\u001b[0m\u001b[1;33m\u001b[0m\u001b[0m\n\u001b[1;32m----> 5\u001b[1;33m \u001b[1;32mfrom\u001b[0m \u001b[0msklearn\u001b[0m\u001b[1;33m.\u001b[0m\u001b[0mcross_validation\u001b[0m \u001b[1;32mimport\u001b[0m \u001b[0mcross_val_score\u001b[0m\u001b[1;33m\u001b[0m\u001b[0m\n\u001b[0m",
      "\u001b[1;31mModuleNotFoundError\u001b[0m: No module named 'sklearn.cross_validation'"
     ]
    }
   ],
   "source": [
    "from sklearn.tree import DecisionTreeClassifier # Import Decision Tree Classifier\n",
    "from sklearn.model_selection import train_test_split # Import train_test_split function\n",
    "from sklearn import metrics #Import scikit-learn metrics module for accuracy calculation\n",
    "from sklearn import preprocessing\n",
    "from sklearn.cross_validation import cross_val_score\n"
   ]
  },
  {
   "cell_type": "code",
   "execution_count": 117,
   "metadata": {},
   "outputs": [
    {
     "data": {
      "text/plain": [
       "array([ 45, 104, 110,  60, 115, 103, 107,  73,  47, 128,  83,  57,  81,\n",
       "        10, 111,  38,  71, 117, 113,  43,  94, 122,  91,  54,  12,  34,\n",
       "        21,  52,  32], dtype=int64)"
      ]
     },
     "execution_count": 117,
     "metadata": {},
     "output_type": "execute_result"
    }
   ],
   "source": [
    "base_q5.codigo_cuenca.unique()"
   ]
  },
  {
   "cell_type": "code",
   "execution_count": 118,
   "metadata": {},
   "outputs": [],
   "source": [
    "feature_cols = ['codigo_estacion',\n",
    "       'altura', 'latitud', 'longitud', 'codigo_cuenca',\n",
    "       'cantidad_observaciones', 'caudal', 'gauge_id',\n",
    "       'precip_promedio', 'temp_max_promedio', 'año', 'mes', 'dia', 'Season']"
   ]
  },
  {
   "cell_type": "code",
   "execution_count": 119,
   "metadata": {},
   "outputs": [],
   "source": [
    "Fecha_Inicio = pd.Timestamp('2012-01-01')\n",
    "Fecha_Termino = pd.Timestamp('2017-12-31')"
   ]
  },
  {
   "cell_type": "code",
   "execution_count": 120,
   "metadata": {},
   "outputs": [],
   "source": [
    "base_q7 = base_q5.loc[(base_q5['fecha']>Fecha_Inicio) & (base_q5['fecha']<Fecha_Termino)]\n",
    "x_comparacion = base_q5.loc[(base_q5['fecha']>Fecha_Termino)]"
   ]
  },
  {
   "cell_type": "code",
   "execution_count": 121,
   "metadata": {},
   "outputs": [
    {
     "name": "stderr",
     "output_type": "stream",
     "text": [
      "C:\\Users\\c-ba7\\.juliapro\\JuliaPro_v1.3.1-2\\Conda_env\\lib\\site-packages\\ipykernel_launcher.py:1: SettingWithCopyWarning: \n",
      "A value is trying to be set on a copy of a slice from a DataFrame\n",
      "\n",
      "See the caveats in the documentation: https://pandas.pydata.org/pandas-docs/stable/user_guide/indexing.html#returning-a-view-versus-a-copy\n",
      "  \"\"\"Entry point for launching an IPython kernel.\n",
      "C:\\Users\\c-ba7\\.juliapro\\JuliaPro_v1.3.1-2\\Conda_env\\lib\\site-packages\\ipykernel_launcher.py:2: SettingWithCopyWarning: \n",
      "A value is trying to be set on a copy of a slice from a DataFrame\n",
      "\n",
      "See the caveats in the documentation: https://pandas.pydata.org/pandas-docs/stable/user_guide/indexing.html#returning-a-view-versus-a-copy\n",
      "  \n"
     ]
    }
   ],
   "source": [
    "base_q7.dropna(inplace=True)\n",
    "x_comparacion.dropna(inplace=True)"
   ]
  },
  {
   "cell_type": "code",
   "execution_count": 129,
   "metadata": {},
   "outputs": [
    {
     "name": "stderr",
     "output_type": "stream",
     "text": [
      "C:\\Users\\c-ba7\\.juliapro\\JuliaPro_v1.3.1-2\\Conda_env\\lib\\site-packages\\ipykernel_launcher.py:6: SettingWithCopyWarning: \n",
      "A value is trying to be set on a copy of a slice from a DataFrame.\n",
      "Try using .loc[row_indexer,col_indexer] = value instead\n",
      "\n",
      "See the caveats in the documentation: https://pandas.pydata.org/pandas-docs/stable/user_guide/indexing.html#returning-a-view-versus-a-copy\n",
      "  \n",
      "C:\\Users\\c-ba7\\.juliapro\\JuliaPro_v1.3.1-2\\Conda_env\\lib\\site-packages\\ipykernel_launcher.py:7: SettingWithCopyWarning: \n",
      "A value is trying to be set on a copy of a slice from a DataFrame.\n",
      "Try using .loc[row_indexer,col_indexer] = value instead\n",
      "\n",
      "See the caveats in the documentation: https://pandas.pydata.org/pandas-docs/stable/user_guide/indexing.html#returning-a-view-versus-a-copy\n",
      "  import sys\n"
     ]
    }
   ],
   "source": [
    "X = base_q7[feature_cols]\n",
    "y = base_q7.caudal_95\n",
    "x_comparacionP = x_comparacion[feature_cols]\n",
    "y_comparacion = x_comparacion.caudal_95\n",
    "\n",
    "X['Season'] = preprocessing.LabelEncoder().fit_transform(X['Season'])\n",
    "x_comparacionP['Season'] = preprocessing.LabelEncoder().fit_transform(x_comparacionP['Season'])\n"
   ]
  },
  {
   "cell_type": "code",
   "execution_count": 130,
   "metadata": {},
   "outputs": [
    {
     "ename": "NameError",
     "evalue": "name 'cross_validation' is not defined",
     "output_type": "error",
     "traceback": [
      "\u001b[1;31m---------------------------------------------------------------------------\u001b[0m",
      "\u001b[1;31mNameError\u001b[0m                                 Traceback (most recent call last)",
      "\u001b[1;32m<ipython-input-130-38c78dec3529>\u001b[0m in \u001b[0;36m<module>\u001b[1;34m\u001b[0m\n\u001b[1;32m----> 1\u001b[1;33m \u001b[0mX_train\u001b[0m\u001b[1;33m,\u001b[0m \u001b[0mX_test\u001b[0m\u001b[1;33m,\u001b[0m \u001b[0my_train\u001b[0m\u001b[1;33m,\u001b[0m \u001b[0my_test\u001b[0m \u001b[1;33m=\u001b[0m \u001b[0mcross_validation\u001b[0m\u001b[1;33m.\u001b[0m\u001b[0mtrain_test_split\u001b[0m\u001b[1;33m(\u001b[0m\u001b[0mX\u001b[0m\u001b[1;33m,\u001b[0m \u001b[0my\u001b[0m\u001b[1;33m,\u001b[0m \u001b[0mtest_size\u001b[0m\u001b[1;33m=\u001b[0m\u001b[1;36m0.3\u001b[0m\u001b[1;33m,\u001b[0m \u001b[0mrandom_state\u001b[0m\u001b[1;33m=\u001b[0m\u001b[1;36m1\u001b[0m\u001b[1;33m)\u001b[0m\u001b[1;33m\u001b[0m\u001b[0m\n\u001b[0m",
      "\u001b[1;31mNameError\u001b[0m: name 'cross_validation' is not defined"
     ]
    }
   ],
   "source": [
    "X_train, X_test, y_train, y_test = cross_validation.train_test_split(X, y, test_size=0.3, random_state=1)"
   ]
  },
  {
   "cell_type": "code",
   "execution_count": 124,
   "metadata": {},
   "outputs": [
    {
     "data": {
      "text/plain": [
       "codigo_estacion             int64\n",
       "altura                      int64\n",
       "latitud                   float64\n",
       "longitud                  float64\n",
       "codigo_cuenca               int64\n",
       "cantidad_observaciones      int64\n",
       "caudal                    float64\n",
       "gauge_id                    int64\n",
       "precip_promedio           float64\n",
       "temp_max_promedio         float64\n",
       "año                         int64\n",
       "mes                         int64\n",
       "dia                         int64\n",
       "Season                      int32\n",
       "dtype: object"
      ]
     },
     "execution_count": 124,
     "metadata": {},
     "output_type": "execute_result"
    }
   ],
   "source": [
    "X.dtypes"
   ]
  },
  {
   "cell_type": "code",
   "execution_count": 125,
   "metadata": {},
   "outputs": [],
   "source": [
    "clf = DecisionTreeClassifier(max_depth = 5)\n",
    "\n",
    "# Train Decision Tree Classifer\n",
    "clf = clf.fit(X_train,y_train)\n",
    "\n",
    "#Predict the response for test dataset\n",
    "y_pred = clf.predict(X_test)"
   ]
  },
  {
   "cell_type": "code",
   "execution_count": 126,
   "metadata": {},
   "outputs": [
    {
     "name": "stdout",
     "output_type": "stream",
     "text": [
      "Accuracy: 0.9981943446172186\n"
     ]
    }
   ],
   "source": [
    "print(\"Accuracy:\",metrics.accuracy_score(y_test, y_pred))\n"
   ]
  },
  {
   "cell_type": "code",
   "execution_count": null,
   "metadata": {},
   "outputs": [],
   "source": [
    "print(\"Accuracy:\",metrics.accuracy_score(x_comparacion.caudal_95 , y_pred))\n"
   ]
  },
  {
   "cell_type": "code",
   "execution_count": null,
   "metadata": {},
   "outputs": [],
   "source": [
    "x_comparacion.drop"
   ]
  },
  {
   "cell_type": "code",
   "execution_count": 127,
   "metadata": {},
   "outputs": [],
   "source": [
    "y_pred = clf.predict(x_comparacionP)"
   ]
  },
  {
   "cell_type": "code",
   "execution_count": 128,
   "metadata": {},
   "outputs": [
    {
     "name": "stdout",
     "output_type": "stream",
     "text": [
      "Accuracy: 0.9704819277108434\n"
     ]
    }
   ],
   "source": [
    "print(\"Accuracy:\",metrics.accuracy_score(y_comparacion, y_pred))"
   ]
  },
  {
   "cell_type": "code",
   "execution_count": 140,
   "metadata": {},
   "outputs": [
    {
     "name": "stdout",
     "output_type": "stream",
     "text": [
      "Accuracy: 0.7470817120622568\n"
     ]
    }
   ],
   "source": [
    "print(\"Accuracy:\",metrics.precision_score(y_comparacion, y_pred))"
   ]
  },
  {
   "cell_type": "code",
   "execution_count": 141,
   "metadata": {},
   "outputs": [
    {
     "name": "stdout",
     "output_type": "stream",
     "text": [
      "Accuracy: 0.7966804979253111\n"
     ]
    }
   ],
   "source": [
    "print(\"Accuracy:\",metrics.f1_score(y_comparacion, y_pred))"
   ]
  },
  {
   "cell_type": "code",
   "execution_count": 142,
   "metadata": {},
   "outputs": [
    {
     "name": "stdout",
     "output_type": "stream",
     "text": [
      "Accuracy: 0.8533333333333334\n"
     ]
    }
   ],
   "source": [
    "print(\"Accuracy:\",metrics.recall_score(y_comparacion, y_pred))"
   ]
  },
  {
   "cell_type": "code",
   "execution_count": 137,
   "metadata": {},
   "outputs": [],
   "source": [
    "corr_M = base_q5[feature_cols].corr(method='pearson')"
   ]
  },
  {
   "cell_type": "code",
   "execution_count": 135,
   "metadata": {},
   "outputs": [],
   "source": [
    "import seaborn as sn\n",
    "import matplotlib.pyplot as plt"
   ]
  },
  {
   "cell_type": "code",
   "execution_count": 139,
   "metadata": {},
   "outputs": [
    {
     "data": {
      "image/png": "[encoded data removed]",
      "text/plain": [
       "<Figure size 432x288 with 2 Axes>"
      ]
     },
     "metadata": {
      "needs_background": "light"
     },
     "output_type": "display_data"
    }
   ],
   "source": [
    "sn.heatmap(corr_M,)\n",
    "plt.show()"
   ]
  },
  {
   "cell_type": "code",
   "execution_count": null,
   "metadata": {},
   "outputs": [],
   "source": []
  }
 ],
 "metadata": {
  "kernelspec": {
   "display_name": "Python 3",
   "language": "python",
   "name": "python3"
  },
  "language_info": {
   "codemirror_mode": {
    "name": "ipython",
    "version": 3
   },
   "file_extension": ".py",
   "mimetype": "text/x-python",
   "name": "python",
   "nbconvert_exporter": "python",
   "pygments_lexer": "ipython3",
   "version": "3.6.5"
  }
 },
 "nbformat": 4,
 "nbformat_minor": 4
}
