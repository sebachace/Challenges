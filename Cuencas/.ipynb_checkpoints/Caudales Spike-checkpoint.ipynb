{
 "cells": [
  {
   "cell_type": "code",
   "execution_count": 83,
   "metadata": {},
   "outputs": [],
   "source": [
    "import pandas as pd\n",
    "import numpy as np\n",
    "import matplotlib.pyplot as plt\n",
    "pd.options.mode.chained_assignment = None\n",
    "import sklearn\n",
    "from sklearn import preprocessing\n",
    "from sklearn import svm\n",
    "from sklearn import metrics"
   ]
  },
  {
   "cell_type": "code",
   "execution_count": 2,
   "metadata": {},
   "outputs": [],
   "source": [
    "data = pd.read_csv(\"caudal_extra.csv\", parse_dates=[\"fecha\"])"
   ]
  },
  {
   "cell_type": "code",
   "execution_count": 3,
   "metadata": {},
   "outputs": [],
   "source": [
    "data[\"fecha\"] = data[\"fecha\"].astype('datetime64[ns]')"
   ]
  },
  {
   "cell_type": "code",
   "execution_count": 4,
   "metadata": {},
   "outputs": [
    {
     "name": "stdout",
     "output_type": "stream",
     "text": [
      "<class 'pandas.core.frame.DataFrame'>\n",
      "RangeIndex: 1411180 entries, 0 to 1411179\n",
      "Data columns (total 17 columns):\n",
      " #   Column                  Non-Null Count    Dtype         \n",
      "---  ------                  --------------    -----         \n",
      " 0   Unnamed: 0              1411180 non-null  int64         \n",
      " 1   codigo_estacion         1411180 non-null  int64         \n",
      " 2   institucion             1411180 non-null  object        \n",
      " 3   fuente                  1411180 non-null  object        \n",
      " 4   nombre                  1411180 non-null  object        \n",
      " 5   altura                  1411180 non-null  int64         \n",
      " 6   latitud                 1411180 non-null  float64       \n",
      " 7   longitud                1411180 non-null  float64       \n",
      " 8   codigo_cuenca           1411180 non-null  int64         \n",
      " 9   nombre_sub_cuenca       1411180 non-null  object        \n",
      " 10  cantidad_observaciones  1411180 non-null  int64         \n",
      " 11  fecha                   1411180 non-null  datetime64[ns]\n",
      " 12  caudal                  1411180 non-null  float64       \n",
      " 13  gauge_id                1411180 non-null  int64         \n",
      " 14  gauge_name              1411180 non-null  object        \n",
      " 15  precip_promedio         1383413 non-null  float64       \n",
      " 16  temp_max_promedio       1259617 non-null  float64       \n",
      "dtypes: datetime64[ns](1), float64(5), int64(6), object(5)\n",
      "memory usage: 183.0+ MB\n"
     ]
    }
   ],
   "source": [
    "data.info()"
   ]
  },
  {
   "cell_type": "code",
   "execution_count": 5,
   "metadata": {
    "scrolled": true
   },
   "outputs": [
    {
     "data": {
      "text/html": [
       "<div>\n",
       "<style scoped>\n",
       "    .dataframe tbody tr th:only-of-type {\n",
       "        vertical-align: middle;\n",
       "    }\n",
       "\n",
       "    .dataframe tbody tr th {\n",
       "        vertical-align: top;\n",
       "    }\n",
       "\n",
       "    .dataframe thead th {\n",
       "        text-align: right;\n",
       "    }\n",
       "</style>\n",
       "<table border=\"1\" class=\"dataframe\">\n",
       "  <thead>\n",
       "    <tr style=\"text-align: right;\">\n",
       "      <th></th>\n",
       "      <th>Unnamed: 0</th>\n",
       "      <th>codigo_estacion</th>\n",
       "      <th>institucion</th>\n",
       "      <th>fuente</th>\n",
       "      <th>nombre</th>\n",
       "      <th>altura</th>\n",
       "      <th>latitud</th>\n",
       "      <th>longitud</th>\n",
       "      <th>codigo_cuenca</th>\n",
       "      <th>nombre_sub_cuenca</th>\n",
       "      <th>cantidad_observaciones</th>\n",
       "      <th>fecha</th>\n",
       "      <th>caudal</th>\n",
       "      <th>gauge_id</th>\n",
       "      <th>gauge_name</th>\n",
       "      <th>precip_promedio</th>\n",
       "      <th>temp_max_promedio</th>\n",
       "    </tr>\n",
       "  </thead>\n",
       "  <tbody>\n",
       "    <tr>\n",
       "      <th>0</th>\n",
       "      <td>0</td>\n",
       "      <td>4540001</td>\n",
       "      <td>DGA</td>\n",
       "      <td>dga_web</td>\n",
       "      <td>Rio Grande En Paloma 1</td>\n",
       "      <td>310</td>\n",
       "      <td>-30.6833</td>\n",
       "      <td>-71.050003</td>\n",
       "      <td>45</td>\n",
       "      <td>Rio Grande Bajo (Entre E Paloma Y Rio Hurtado)</td>\n",
       "      <td>11575</td>\n",
       "      <td>1960-01-06</td>\n",
       "      <td>0.812</td>\n",
       "      <td>4540001</td>\n",
       "      <td>Rio Grande En Paloma 1</td>\n",
       "      <td>0.0</td>\n",
       "      <td>NaN</td>\n",
       "    </tr>\n",
       "    <tr>\n",
       "      <th>1</th>\n",
       "      <td>1</td>\n",
       "      <td>4540001</td>\n",
       "      <td>DGA</td>\n",
       "      <td>dga_web</td>\n",
       "      <td>Rio Grande En Paloma 1</td>\n",
       "      <td>310</td>\n",
       "      <td>-30.6833</td>\n",
       "      <td>-71.050003</td>\n",
       "      <td>45</td>\n",
       "      <td>Rio Grande Bajo (Entre E Paloma Y Rio Hurtado)</td>\n",
       "      <td>11575</td>\n",
       "      <td>1960-03-27</td>\n",
       "      <td>0.236</td>\n",
       "      <td>4540001</td>\n",
       "      <td>Rio Grande En Paloma 1</td>\n",
       "      <td>0.0</td>\n",
       "      <td>NaN</td>\n",
       "    </tr>\n",
       "    <tr>\n",
       "      <th>2</th>\n",
       "      <td>2</td>\n",
       "      <td>4540001</td>\n",
       "      <td>DGA</td>\n",
       "      <td>dga_web</td>\n",
       "      <td>Rio Grande En Paloma 1</td>\n",
       "      <td>310</td>\n",
       "      <td>-30.6833</td>\n",
       "      <td>-71.050003</td>\n",
       "      <td>45</td>\n",
       "      <td>Rio Grande Bajo (Entre E Paloma Y Rio Hurtado)</td>\n",
       "      <td>11575</td>\n",
       "      <td>1960-05-07</td>\n",
       "      <td>0.730</td>\n",
       "      <td>4540001</td>\n",
       "      <td>Rio Grande En Paloma 1</td>\n",
       "      <td>0.0</td>\n",
       "      <td>NaN</td>\n",
       "    </tr>\n",
       "    <tr>\n",
       "      <th>3</th>\n",
       "      <td>3</td>\n",
       "      <td>4540001</td>\n",
       "      <td>DGA</td>\n",
       "      <td>dga_web</td>\n",
       "      <td>Rio Grande En Paloma 1</td>\n",
       "      <td>310</td>\n",
       "      <td>-30.6833</td>\n",
       "      <td>-71.050003</td>\n",
       "      <td>45</td>\n",
       "      <td>Rio Grande Bajo (Entre E Paloma Y Rio Hurtado)</td>\n",
       "      <td>11575</td>\n",
       "      <td>1960-06-30</td>\n",
       "      <td>3.590</td>\n",
       "      <td>4540001</td>\n",
       "      <td>Rio Grande En Paloma 1</td>\n",
       "      <td>0.0</td>\n",
       "      <td>NaN</td>\n",
       "    </tr>\n",
       "    <tr>\n",
       "      <th>4</th>\n",
       "      <td>4</td>\n",
       "      <td>4540001</td>\n",
       "      <td>DGA</td>\n",
       "      <td>dga_web</td>\n",
       "      <td>Rio Grande En Paloma 1</td>\n",
       "      <td>310</td>\n",
       "      <td>-30.6833</td>\n",
       "      <td>-71.050003</td>\n",
       "      <td>45</td>\n",
       "      <td>Rio Grande Bajo (Entre E Paloma Y Rio Hurtado)</td>\n",
       "      <td>11575</td>\n",
       "      <td>1960-07-22</td>\n",
       "      <td>1.370</td>\n",
       "      <td>4540001</td>\n",
       "      <td>Rio Grande En Paloma 1</td>\n",
       "      <td>0.0</td>\n",
       "      <td>NaN</td>\n",
       "    </tr>\n",
       "  </tbody>\n",
       "</table>\n",
       "</div>"
      ],
      "text/plain": [
       "   Unnamed: 0  codigo_estacion institucion   fuente                  nombre  \\\n",
       "0           0          4540001         DGA  dga_web  Rio Grande En Paloma 1   \n",
       "1           1          4540001         DGA  dga_web  Rio Grande En Paloma 1   \n",
       "2           2          4540001         DGA  dga_web  Rio Grande En Paloma 1   \n",
       "3           3          4540001         DGA  dga_web  Rio Grande En Paloma 1   \n",
       "4           4          4540001         DGA  dga_web  Rio Grande En Paloma 1   \n",
       "\n",
       "   altura  latitud   longitud  codigo_cuenca  \\\n",
       "0     310 -30.6833 -71.050003             45   \n",
       "1     310 -30.6833 -71.050003             45   \n",
       "2     310 -30.6833 -71.050003             45   \n",
       "3     310 -30.6833 -71.050003             45   \n",
       "4     310 -30.6833 -71.050003             45   \n",
       "\n",
       "                                nombre_sub_cuenca  cantidad_observaciones  \\\n",
       "0  Rio Grande Bajo (Entre E Paloma Y Rio Hurtado)                   11575   \n",
       "1  Rio Grande Bajo (Entre E Paloma Y Rio Hurtado)                   11575   \n",
       "2  Rio Grande Bajo (Entre E Paloma Y Rio Hurtado)                   11575   \n",
       "3  Rio Grande Bajo (Entre E Paloma Y Rio Hurtado)                   11575   \n",
       "4  Rio Grande Bajo (Entre E Paloma Y Rio Hurtado)                   11575   \n",
       "\n",
       "       fecha  caudal  gauge_id              gauge_name  precip_promedio  \\\n",
       "0 1960-01-06   0.812   4540001  Rio Grande En Paloma 1              0.0   \n",
       "1 1960-03-27   0.236   4540001  Rio Grande En Paloma 1              0.0   \n",
       "2 1960-05-07   0.730   4540001  Rio Grande En Paloma 1              0.0   \n",
       "3 1960-06-30   3.590   4540001  Rio Grande En Paloma 1              0.0   \n",
       "4 1960-07-22   1.370   4540001  Rio Grande En Paloma 1              0.0   \n",
       "\n",
       "   temp_max_promedio  \n",
       "0                NaN  \n",
       "1                NaN  \n",
       "2                NaN  \n",
       "3                NaN  \n",
       "4                NaN  "
      ]
     },
     "execution_count": 5,
     "metadata": {},
     "output_type": "execute_result"
    }
   ],
   "source": [
    "data.head()"
   ]
  },
  {
   "cell_type": "code",
   "execution_count": 6,
   "metadata": {},
   "outputs": [
    {
     "data": {
      "text/html": [
       "<div>\n",
       "<style scoped>\n",
       "    .dataframe tbody tr th:only-of-type {\n",
       "        vertical-align: middle;\n",
       "    }\n",
       "\n",
       "    .dataframe tbody tr th {\n",
       "        vertical-align: top;\n",
       "    }\n",
       "\n",
       "    .dataframe thead th {\n",
       "        text-align: right;\n",
       "    }\n",
       "</style>\n",
       "<table border=\"1\" class=\"dataframe\">\n",
       "  <thead>\n",
       "    <tr style=\"text-align: right;\">\n",
       "      <th></th>\n",
       "      <th>Unnamed: 0</th>\n",
       "      <th>codigo_estacion</th>\n",
       "      <th>altura</th>\n",
       "      <th>latitud</th>\n",
       "      <th>longitud</th>\n",
       "      <th>codigo_cuenca</th>\n",
       "      <th>cantidad_observaciones</th>\n",
       "      <th>caudal</th>\n",
       "      <th>gauge_id</th>\n",
       "      <th>precip_promedio</th>\n",
       "      <th>temp_max_promedio</th>\n",
       "    </tr>\n",
       "  </thead>\n",
       "  <tbody>\n",
       "    <tr>\n",
       "      <th>count</th>\n",
       "      <td>1.411180e+06</td>\n",
       "      <td>1.411180e+06</td>\n",
       "      <td>1.411180e+06</td>\n",
       "      <td>1.411180e+06</td>\n",
       "      <td>1.411180e+06</td>\n",
       "      <td>1.411180e+06</td>\n",
       "      <td>1.411180e+06</td>\n",
       "      <td>1.411180e+06</td>\n",
       "      <td>1.411180e+06</td>\n",
       "      <td>1.383413e+06</td>\n",
       "      <td>1.259617e+06</td>\n",
       "    </tr>\n",
       "    <tr>\n",
       "      <th>mean</th>\n",
       "      <td>7.055895e+05</td>\n",
       "      <td>6.279953e+06</td>\n",
       "      <td>5.855691e+02</td>\n",
       "      <td>-3.367748e+01</td>\n",
       "      <td>-7.121826e+01</td>\n",
       "      <td>6.255881e+01</td>\n",
       "      <td>1.573983e+04</td>\n",
       "      <td>9.552229e+01</td>\n",
       "      <td>6.279953e+06</td>\n",
       "      <td>1.921009e+00</td>\n",
       "      <td>1.921110e+01</td>\n",
       "    </tr>\n",
       "    <tr>\n",
       "      <th>std</th>\n",
       "      <td>4.073727e+05</td>\n",
       "      <td>2.891695e+06</td>\n",
       "      <td>8.652682e+02</td>\n",
       "      <td>6.940820e+00</td>\n",
       "      <td>1.174363e+00</td>\n",
       "      <td>2.839921e+01</td>\n",
       "      <td>7.545197e+03</td>\n",
       "      <td>2.526337e+02</td>\n",
       "      <td>2.891695e+06</td>\n",
       "      <td>7.361936e+00</td>\n",
       "      <td>7.307081e+00</td>\n",
       "    </tr>\n",
       "    <tr>\n",
       "      <th>min</th>\n",
       "      <td>0.000000e+00</td>\n",
       "      <td>1.020003e+06</td>\n",
       "      <td>0.000000e+00</td>\n",
       "      <td>-5.404110e+01</td>\n",
       "      <td>-7.328330e+01</td>\n",
       "      <td>1.000000e+01</td>\n",
       "      <td>8.020000e+02</td>\n",
       "      <td>0.000000e+00</td>\n",
       "      <td>1.020003e+06</td>\n",
       "      <td>0.000000e+00</td>\n",
       "      <td>-1.905000e+01</td>\n",
       "    </tr>\n",
       "    <tr>\n",
       "      <th>25%</th>\n",
       "      <td>3.527948e+05</td>\n",
       "      <td>4.320001e+06</td>\n",
       "      <td>4.500000e+01</td>\n",
       "      <td>-3.721190e+01</td>\n",
       "      <td>-7.206810e+01</td>\n",
       "      <td>4.300000e+01</td>\n",
       "      <td>1.025500e+04</td>\n",
       "      <td>1.250000e+00</td>\n",
       "      <td>4.320001e+06</td>\n",
       "      <td>0.000000e+00</td>\n",
       "      <td>1.370000e+01</td>\n",
       "    </tr>\n",
       "    <tr>\n",
       "      <th>50%</th>\n",
       "      <td>7.055895e+05</td>\n",
       "      <td>5.734001e+06</td>\n",
       "      <td>3.950000e+02</td>\n",
       "      <td>-3.359390e+01</td>\n",
       "      <td>-7.125470e+01</td>\n",
       "      <td>5.700000e+01</td>\n",
       "      <td>1.488900e+04</td>\n",
       "      <td>8.950000e+00</td>\n",
       "      <td>5.734001e+06</td>\n",
       "      <td>0.000000e+00</td>\n",
       "      <td>1.908429e+01</td>\n",
       "    </tr>\n",
       "    <tr>\n",
       "      <th>75%</th>\n",
       "      <td>1.058384e+06</td>\n",
       "      <td>8.308000e+06</td>\n",
       "      <td>7.500000e+02</td>\n",
       "      <td>-2.994580e+01</td>\n",
       "      <td>-7.053280e+01</td>\n",
       "      <td>8.300000e+01</td>\n",
       "      <td>2.061100e+04</td>\n",
       "      <td>6.970000e+01</td>\n",
       "      <td>8.308000e+06</td>\n",
       "      <td>0.000000e+00</td>\n",
       "      <td>2.520000e+01</td>\n",
       "    </tr>\n",
       "    <tr>\n",
       "      <th>max</th>\n",
       "      <td>1.411179e+06</td>\n",
       "      <td>1.287600e+07</td>\n",
       "      <td>4.370000e+03</td>\n",
       "      <td>-1.823250e+01</td>\n",
       "      <td>-6.814390e+01</td>\n",
       "      <td>1.280000e+02</td>\n",
       "      <td>3.666700e+04</td>\n",
       "      <td>1.580500e+04</td>\n",
       "      <td>1.287600e+07</td>\n",
       "      <td>2.586000e+02</td>\n",
       "      <td>4.150000e+01</td>\n",
       "    </tr>\n",
       "  </tbody>\n",
       "</table>\n",
       "</div>"
      ],
      "text/plain": [
       "         Unnamed: 0  codigo_estacion        altura       latitud  \\\n",
       "count  1.411180e+06     1.411180e+06  1.411180e+06  1.411180e+06   \n",
       "mean   7.055895e+05     6.279953e+06  5.855691e+02 -3.367748e+01   \n",
       "std    4.073727e+05     2.891695e+06  8.652682e+02  6.940820e+00   \n",
       "min    0.000000e+00     1.020003e+06  0.000000e+00 -5.404110e+01   \n",
       "25%    3.527948e+05     4.320001e+06  4.500000e+01 -3.721190e+01   \n",
       "50%    7.055895e+05     5.734001e+06  3.950000e+02 -3.359390e+01   \n",
       "75%    1.058384e+06     8.308000e+06  7.500000e+02 -2.994580e+01   \n",
       "max    1.411179e+06     1.287600e+07  4.370000e+03 -1.823250e+01   \n",
       "\n",
       "           longitud  codigo_cuenca  cantidad_observaciones        caudal  \\\n",
       "count  1.411180e+06   1.411180e+06            1.411180e+06  1.411180e+06   \n",
       "mean  -7.121826e+01   6.255881e+01            1.573983e+04  9.552229e+01   \n",
       "std    1.174363e+00   2.839921e+01            7.545197e+03  2.526337e+02   \n",
       "min   -7.328330e+01   1.000000e+01            8.020000e+02  0.000000e+00   \n",
       "25%   -7.206810e+01   4.300000e+01            1.025500e+04  1.250000e+00   \n",
       "50%   -7.125470e+01   5.700000e+01            1.488900e+04  8.950000e+00   \n",
       "75%   -7.053280e+01   8.300000e+01            2.061100e+04  6.970000e+01   \n",
       "max   -6.814390e+01   1.280000e+02            3.666700e+04  1.580500e+04   \n",
       "\n",
       "           gauge_id  precip_promedio  temp_max_promedio  \n",
       "count  1.411180e+06     1.383413e+06       1.259617e+06  \n",
       "mean   6.279953e+06     1.921009e+00       1.921110e+01  \n",
       "std    2.891695e+06     7.361936e+00       7.307081e+00  \n",
       "min    1.020003e+06     0.000000e+00      -1.905000e+01  \n",
       "25%    4.320001e+06     0.000000e+00       1.370000e+01  \n",
       "50%    5.734001e+06     0.000000e+00       1.908429e+01  \n",
       "75%    8.308000e+06     0.000000e+00       2.520000e+01  \n",
       "max    1.287600e+07     2.586000e+02       4.150000e+01  "
      ]
     },
     "execution_count": 6,
     "metadata": {},
     "output_type": "execute_result"
    }
   ],
   "source": [
    "data.describe()"
   ]
  },
  {
   "cell_type": "markdown",
   "metadata": {},
   "source": [
    "# 3 Funciones graficos precipitación, temperatura y caudal"
   ]
  },
  {
   "cell_type": "markdown",
   "metadata": {},
   "source": [
    "3.a Función grafico una columna"
   ]
  },
  {
   "cell_type": "code",
   "execution_count": 7,
   "metadata": {},
   "outputs": [],
   "source": [
    "def time_plot_una_estacion(codigo_estacion, columna, fecha_min, fecha_max):\n",
    "    base = data.loc[((data[\"codigo_estacion\"]==codigo_estacion) & (data[\"fecha\"]>=fecha_min) & (data[\"fecha\"]<=fecha_max))]\n",
    "    base.sort_values(by=['fecha'], inplace=True)\n",
    "    fig = plt.figure()\n",
    "    fig = plt.scatter(base[\"fecha\"],base[columna],label=columna)\n",
    "    plt.legend()\n",
    "    return fig"
   ]
  },
  {
   "cell_type": "markdown",
   "metadata": {},
   "source": [
    "Valores de entrada"
   ]
  },
  {
   "cell_type": "code",
   "execution_count": 8,
   "metadata": {},
   "outputs": [],
   "source": [
    "fecha_inicio = pd.Timestamp(\"1960-01-06\")\n",
    "fecha_termino = pd.Timestamp(\"1990-01-06\")\n",
    "column = \"caudal\"\n",
    "estacion = 4540001"
   ]
  },
  {
   "cell_type": "markdown",
   "metadata": {},
   "source": [
    "Resultado funcion 3.a"
   ]
  },
  {
   "cell_type": "code",
   "execution_count": 9,
   "metadata": {},
   "outputs": [
    {
     "data": {
      "text/plain": [
       "<matplotlib.collections.PathCollection at 0x11c979690>"
      ]
     },
     "execution_count": 9,
     "metadata": {},
     "output_type": "execute_result"
    },
    {
     "data": {
      "image/png": "[encoded data removed]",
      "text/plain": [
       "<Figure size 432x288 with 1 Axes>"
      ]
     },
     "metadata": {
      "needs_background": "light"
     },
     "output_type": "display_data"
    }
   ],
   "source": [
    "time_plot_una_estacion(estacion,column,fecha_inicio,fecha_termino)"
   ]
  },
  {
   "cell_type": "markdown",
   "metadata": {},
   "source": [
    "3.b Función grafico múltiples columnas"
   ]
  },
  {
   "cell_type": "code",
   "execution_count": 10,
   "metadata": {},
   "outputs": [],
   "source": [
    "def time_plot_estaciones_varias_columnas(codigo_estacion, columnas, fecha_min, fecha_max):\n",
    "    base = data.loc[((data[\"codigo_estacion\"]==codigo_estacion) & (data[\"fecha\"]>=fecha_min) & (data[\"fecha\"]<=fecha_max))]\n",
    "    base.sort_values(by=['fecha'], inplace=True)\n",
    "    fig = plt.figure()\n",
    "    for name in columnas:\n",
    "        max_value = base[name].max()\n",
    "        min_value = base[name].min()\n",
    "        base[name] = (base[name] - min_value) / (max_value - min_value)\n",
    "        fig = plt.plot(base[\"fecha\"],base[name],label=name)\n",
    "        plt.legend()\n",
    "    \n",
    "    return fig"
   ]
  },
  {
   "cell_type": "markdown",
   "metadata": {},
   "source": [
    "Valores de entrada"
   ]
  },
  {
   "cell_type": "code",
   "execution_count": 11,
   "metadata": {},
   "outputs": [],
   "source": [
    "fecha_inicio = pd.Timestamp(\"2017-01-01\")\n",
    "fecha_termino = pd.Timestamp(\"2017-07-01\")\n",
    "columns = [\"caudal\",\"precip_promedio\", \"temp_max_promedio\"]\n",
    "estacion = 11335002"
   ]
  },
  {
   "cell_type": "markdown",
   "metadata": {},
   "source": [
    "Resultado función 3.b"
   ]
  },
  {
   "cell_type": "code",
   "execution_count": 12,
   "metadata": {},
   "outputs": [
    {
     "data": {
      "image/png": "[encoded data removed]",
      "text/plain": [
       "<Figure size 432x288 with 1 Axes>"
      ]
     },
     "metadata": {
      "needs_background": "light"
     },
     "output_type": "display_data"
    }
   ],
   "source": [
    "time_plot_estaciones_varias_columnas(estacion,columns,fecha_inicio,fecha_termino)"
   ]
  },
  {
   "cell_type": "markdown",
   "metadata": {},
   "source": [
    "# 4 Variables extremas"
   ]
  },
  {
   "cell_type": "markdown",
   "metadata": {},
   "source": [
    "Se crea columna de estaciones del año"
   ]
  },
  {
   "cell_type": "code",
   "execution_count": 13,
   "metadata": {},
   "outputs": [],
   "source": [
    "Seasons = {10:\"Primavera\",11:\"Primavera\",12:\"Primavera\",1:\"Verano\",2:\"Verano\",3:\"Verano\",4:\"Otoño\",5:\"Otoño\",6:\"Otoño\",7:\"Invierno\",8:\"Invierno\",9:\"Invierno\"}\n",
    "data[\"Season\"] = data['fecha'].apply(lambda x: Seasons[x.month])"
   ]
  },
  {
   "cell_type": "markdown",
   "metadata": {},
   "source": [
    "Creacion variables extremas de caudal, precipitacion y temperatura"
   ]
  },
  {
   "cell_type": "code",
   "execution_count": 14,
   "metadata": {},
   "outputs": [],
   "source": [
    "data[\"caudal_extremo\"] = data.groupby([\"Season\",\"codigo_cuenca\"])[\"caudal\"].transform('quantile', 0.95)\n",
    "data[\"caudal_extremo\"] = np.where(data[\"caudal\"] > data[\"caudal_extremo\"], 1,0)\n",
    "\n",
    "data[\"precip_extremo\"] = data.groupby([\"Season\",\"codigo_cuenca\"])[\"precip_promedio\"].transform('quantile', 0.95)\n",
    "data[\"precip_extremo\"] = np.where(data[\"precip_promedio\"] > data[\"precip_extremo\"], 1,0)\n",
    "\n",
    "data[\"temp_extremo\"] = data.groupby([\"Season\",\"codigo_cuenca\"])[\"temp_max_promedio\"].transform('quantile', 0.95)\n",
    "data[\"temp_extremo\"] = np.where(data[\"temp_max_promedio\"] > data[\"temp_extremo\"], 1,0)"
   ]
  },
  {
   "cell_type": "markdown",
   "metadata": {},
   "source": [
    "Visualizacion tabla de caudal extremo"
   ]
  },
  {
   "cell_type": "code",
   "execution_count": 15,
   "metadata": {},
   "outputs": [
    {
     "data": {
      "text/html": [
       "<div>\n",
       "<style scoped>\n",
       "    .dataframe tbody tr th:only-of-type {\n",
       "        vertical-align: middle;\n",
       "    }\n",
       "\n",
       "    .dataframe tbody tr th {\n",
       "        vertical-align: top;\n",
       "    }\n",
       "\n",
       "    .dataframe thead th {\n",
       "        text-align: right;\n",
       "    }\n",
       "</style>\n",
       "<table border=\"1\" class=\"dataframe\">\n",
       "  <thead>\n",
       "    <tr style=\"text-align: right;\">\n",
       "      <th></th>\n",
       "      <th>Unnamed: 0</th>\n",
       "      <th>codigo_estacion</th>\n",
       "      <th>institucion</th>\n",
       "      <th>fuente</th>\n",
       "      <th>nombre</th>\n",
       "      <th>altura</th>\n",
       "      <th>latitud</th>\n",
       "      <th>longitud</th>\n",
       "      <th>codigo_cuenca</th>\n",
       "      <th>nombre_sub_cuenca</th>\n",
       "      <th>...</th>\n",
       "      <th>fecha</th>\n",
       "      <th>caudal</th>\n",
       "      <th>gauge_id</th>\n",
       "      <th>gauge_name</th>\n",
       "      <th>precip_promedio</th>\n",
       "      <th>temp_max_promedio</th>\n",
       "      <th>Season</th>\n",
       "      <th>caudal_extremo</th>\n",
       "      <th>precip_extremo</th>\n",
       "      <th>temp_extremo</th>\n",
       "    </tr>\n",
       "  </thead>\n",
       "  <tbody>\n",
       "    <tr>\n",
       "      <th>28</th>\n",
       "      <td>28</td>\n",
       "      <td>4540001</td>\n",
       "      <td>DGA</td>\n",
       "      <td>dga_web</td>\n",
       "      <td>Rio Grande En Paloma 1</td>\n",
       "      <td>310</td>\n",
       "      <td>-30.683300</td>\n",
       "      <td>-71.050003</td>\n",
       "      <td>45</td>\n",
       "      <td>Rio Grande Bajo (Entre E Paloma Y Rio Hurtado)</td>\n",
       "      <td>...</td>\n",
       "      <td>1963-12-13</td>\n",
       "      <td>98.1</td>\n",
       "      <td>4540001</td>\n",
       "      <td>Rio Grande En Paloma 1</td>\n",
       "      <td>0.0</td>\n",
       "      <td>NaN</td>\n",
       "      <td>Primavera</td>\n",
       "      <td>1</td>\n",
       "      <td>0</td>\n",
       "      <td>0</td>\n",
       "    </tr>\n",
       "    <tr>\n",
       "      <th>29</th>\n",
       "      <td>29</td>\n",
       "      <td>4540001</td>\n",
       "      <td>DGA</td>\n",
       "      <td>dga_web</td>\n",
       "      <td>Rio Grande En Paloma 1</td>\n",
       "      <td>310</td>\n",
       "      <td>-30.683300</td>\n",
       "      <td>-71.050003</td>\n",
       "      <td>45</td>\n",
       "      <td>Rio Grande Bajo (Entre E Paloma Y Rio Hurtado)</td>\n",
       "      <td>...</td>\n",
       "      <td>1963-12-24</td>\n",
       "      <td>94.9</td>\n",
       "      <td>4540001</td>\n",
       "      <td>Rio Grande En Paloma 1</td>\n",
       "      <td>0.0</td>\n",
       "      <td>NaN</td>\n",
       "      <td>Primavera</td>\n",
       "      <td>1</td>\n",
       "      <td>0</td>\n",
       "      <td>0</td>\n",
       "    </tr>\n",
       "    <tr>\n",
       "      <th>30</th>\n",
       "      <td>30</td>\n",
       "      <td>4540001</td>\n",
       "      <td>DGA</td>\n",
       "      <td>dga_web</td>\n",
       "      <td>Rio Grande En Paloma 1</td>\n",
       "      <td>310</td>\n",
       "      <td>-30.683300</td>\n",
       "      <td>-71.050003</td>\n",
       "      <td>45</td>\n",
       "      <td>Rio Grande Bajo (Entre E Paloma Y Rio Hurtado)</td>\n",
       "      <td>...</td>\n",
       "      <td>1963-12-25</td>\n",
       "      <td>98.1</td>\n",
       "      <td>4540001</td>\n",
       "      <td>Rio Grande En Paloma 1</td>\n",
       "      <td>0.0</td>\n",
       "      <td>NaN</td>\n",
       "      <td>Primavera</td>\n",
       "      <td>1</td>\n",
       "      <td>0</td>\n",
       "      <td>0</td>\n",
       "    </tr>\n",
       "    <tr>\n",
       "      <th>31</th>\n",
       "      <td>31</td>\n",
       "      <td>4540001</td>\n",
       "      <td>DGA</td>\n",
       "      <td>dga_web</td>\n",
       "      <td>Rio Grande En Paloma 1</td>\n",
       "      <td>310</td>\n",
       "      <td>-30.683300</td>\n",
       "      <td>-71.050003</td>\n",
       "      <td>45</td>\n",
       "      <td>Rio Grande Bajo (Entre E Paloma Y Rio Hurtado)</td>\n",
       "      <td>...</td>\n",
       "      <td>1964-02-07</td>\n",
       "      <td>23.0</td>\n",
       "      <td>4540001</td>\n",
       "      <td>Rio Grande En Paloma 1</td>\n",
       "      <td>0.0</td>\n",
       "      <td>NaN</td>\n",
       "      <td>Verano</td>\n",
       "      <td>1</td>\n",
       "      <td>0</td>\n",
       "      <td>0</td>\n",
       "    </tr>\n",
       "    <tr>\n",
       "      <th>32</th>\n",
       "      <td>32</td>\n",
       "      <td>4540001</td>\n",
       "      <td>DGA</td>\n",
       "      <td>dga_web</td>\n",
       "      <td>Rio Grande En Paloma 1</td>\n",
       "      <td>310</td>\n",
       "      <td>-30.683300</td>\n",
       "      <td>-71.050003</td>\n",
       "      <td>45</td>\n",
       "      <td>Rio Grande Bajo (Entre E Paloma Y Rio Hurtado)</td>\n",
       "      <td>...</td>\n",
       "      <td>1965-08-19</td>\n",
       "      <td>77.0</td>\n",
       "      <td>4540001</td>\n",
       "      <td>Rio Grande En Paloma 1</td>\n",
       "      <td>0.0</td>\n",
       "      <td>21.500000</td>\n",
       "      <td>Invierno</td>\n",
       "      <td>1</td>\n",
       "      <td>0</td>\n",
       "      <td>0</td>\n",
       "    </tr>\n",
       "    <tr>\n",
       "      <th>...</th>\n",
       "      <td>...</td>\n",
       "      <td>...</td>\n",
       "      <td>...</td>\n",
       "      <td>...</td>\n",
       "      <td>...</td>\n",
       "      <td>...</td>\n",
       "      <td>...</td>\n",
       "      <td>...</td>\n",
       "      <td>...</td>\n",
       "      <td>...</td>\n",
       "      <td>...</td>\n",
       "      <td>...</td>\n",
       "      <td>...</td>\n",
       "      <td>...</td>\n",
       "      <td>...</td>\n",
       "      <td>...</td>\n",
       "      <td>...</td>\n",
       "      <td>...</td>\n",
       "      <td>...</td>\n",
       "      <td>...</td>\n",
       "      <td>...</td>\n",
       "    </tr>\n",
       "    <tr>\n",
       "      <th>1411079</th>\n",
       "      <td>1411079</td>\n",
       "      <td>7322001</td>\n",
       "      <td>DGA</td>\n",
       "      <td>dga_web</td>\n",
       "      <td>Rio Maule En Longitudinal</td>\n",
       "      <td>90</td>\n",
       "      <td>-35.557499</td>\n",
       "      <td>-71.706703</td>\n",
       "      <td>73</td>\n",
       "      <td>Rio Maule Medio (Entre Rio Claro Y Rio Loncomi...</td>\n",
       "      <td>...</td>\n",
       "      <td>2002-10-18</td>\n",
       "      <td>522.0</td>\n",
       "      <td>7322001</td>\n",
       "      <td>Rio Maule En Longitudinal</td>\n",
       "      <td>0.0</td>\n",
       "      <td>11.150000</td>\n",
       "      <td>Primavera</td>\n",
       "      <td>1</td>\n",
       "      <td>0</td>\n",
       "      <td>0</td>\n",
       "    </tr>\n",
       "    <tr>\n",
       "      <th>1411080</th>\n",
       "      <td>1411080</td>\n",
       "      <td>7322001</td>\n",
       "      <td>DGA</td>\n",
       "      <td>dga_web</td>\n",
       "      <td>Rio Maule En Longitudinal</td>\n",
       "      <td>90</td>\n",
       "      <td>-35.557499</td>\n",
       "      <td>-71.706703</td>\n",
       "      <td>73</td>\n",
       "      <td>Rio Maule Medio (Entre Rio Claro Y Rio Loncomi...</td>\n",
       "      <td>...</td>\n",
       "      <td>2002-11-17</td>\n",
       "      <td>768.0</td>\n",
       "      <td>7322001</td>\n",
       "      <td>Rio Maule En Longitudinal</td>\n",
       "      <td>0.0</td>\n",
       "      <td>14.550000</td>\n",
       "      <td>Primavera</td>\n",
       "      <td>1</td>\n",
       "      <td>0</td>\n",
       "      <td>0</td>\n",
       "    </tr>\n",
       "    <tr>\n",
       "      <th>1411081</th>\n",
       "      <td>1411081</td>\n",
       "      <td>7322001</td>\n",
       "      <td>DGA</td>\n",
       "      <td>dga_web</td>\n",
       "      <td>Rio Maule En Longitudinal</td>\n",
       "      <td>90</td>\n",
       "      <td>-35.557499</td>\n",
       "      <td>-71.706703</td>\n",
       "      <td>73</td>\n",
       "      <td>Rio Maule Medio (Entre Rio Claro Y Rio Loncomi...</td>\n",
       "      <td>...</td>\n",
       "      <td>2003-01-08</td>\n",
       "      <td>533.0</td>\n",
       "      <td>7322001</td>\n",
       "      <td>Rio Maule En Longitudinal</td>\n",
       "      <td>0.0</td>\n",
       "      <td>25.924999</td>\n",
       "      <td>Verano</td>\n",
       "      <td>1</td>\n",
       "      <td>0</td>\n",
       "      <td>0</td>\n",
       "    </tr>\n",
       "    <tr>\n",
       "      <th>1411100</th>\n",
       "      <td>1411100</td>\n",
       "      <td>7322001</td>\n",
       "      <td>DGA</td>\n",
       "      <td>dga_web</td>\n",
       "      <td>Rio Maule En Longitudinal</td>\n",
       "      <td>90</td>\n",
       "      <td>-35.557499</td>\n",
       "      <td>-71.706703</td>\n",
       "      <td>73</td>\n",
       "      <td>Rio Maule Medio (Entre Rio Claro Y Rio Loncomi...</td>\n",
       "      <td>...</td>\n",
       "      <td>2005-02-04</td>\n",
       "      <td>175.0</td>\n",
       "      <td>7322001</td>\n",
       "      <td>Rio Maule En Longitudinal</td>\n",
       "      <td>0.0</td>\n",
       "      <td>28.266666</td>\n",
       "      <td>Verano</td>\n",
       "      <td>1</td>\n",
       "      <td>0</td>\n",
       "      <td>0</td>\n",
       "    </tr>\n",
       "    <tr>\n",
       "      <th>1411101</th>\n",
       "      <td>1411101</td>\n",
       "      <td>7322001</td>\n",
       "      <td>DGA</td>\n",
       "      <td>dga_web</td>\n",
       "      <td>Rio Maule En Longitudinal</td>\n",
       "      <td>90</td>\n",
       "      <td>-35.557499</td>\n",
       "      <td>-71.706703</td>\n",
       "      <td>73</td>\n",
       "      <td>Rio Maule Medio (Entre Rio Claro Y Rio Loncomi...</td>\n",
       "      <td>...</td>\n",
       "      <td>2005-03-23</td>\n",
       "      <td>160.0</td>\n",
       "      <td>7322001</td>\n",
       "      <td>Rio Maule En Longitudinal</td>\n",
       "      <td>0.0</td>\n",
       "      <td>27.075001</td>\n",
       "      <td>Verano</td>\n",
       "      <td>1</td>\n",
       "      <td>0</td>\n",
       "      <td>0</td>\n",
       "    </tr>\n",
       "  </tbody>\n",
       "</table>\n",
       "<p>70283 rows × 21 columns</p>\n",
       "</div>"
      ],
      "text/plain": [
       "         Unnamed: 0  codigo_estacion institucion   fuente  \\\n",
       "28               28          4540001         DGA  dga_web   \n",
       "29               29          4540001         DGA  dga_web   \n",
       "30               30          4540001         DGA  dga_web   \n",
       "31               31          4540001         DGA  dga_web   \n",
       "32               32          4540001         DGA  dga_web   \n",
       "...             ...              ...         ...      ...   \n",
       "1411079     1411079          7322001         DGA  dga_web   \n",
       "1411080     1411080          7322001         DGA  dga_web   \n",
       "1411081     1411081          7322001         DGA  dga_web   \n",
       "1411100     1411100          7322001         DGA  dga_web   \n",
       "1411101     1411101          7322001         DGA  dga_web   \n",
       "\n",
       "                            nombre  altura    latitud   longitud  \\\n",
       "28          Rio Grande En Paloma 1     310 -30.683300 -71.050003   \n",
       "29          Rio Grande En Paloma 1     310 -30.683300 -71.050003   \n",
       "30          Rio Grande En Paloma 1     310 -30.683300 -71.050003   \n",
       "31          Rio Grande En Paloma 1     310 -30.683300 -71.050003   \n",
       "32          Rio Grande En Paloma 1     310 -30.683300 -71.050003   \n",
       "...                            ...     ...        ...        ...   \n",
       "1411079  Rio Maule En Longitudinal      90 -35.557499 -71.706703   \n",
       "1411080  Rio Maule En Longitudinal      90 -35.557499 -71.706703   \n",
       "1411081  Rio Maule En Longitudinal      90 -35.557499 -71.706703   \n",
       "1411100  Rio Maule En Longitudinal      90 -35.557499 -71.706703   \n",
       "1411101  Rio Maule En Longitudinal      90 -35.557499 -71.706703   \n",
       "\n",
       "         codigo_cuenca                                  nombre_sub_cuenca  \\\n",
       "28                  45     Rio Grande Bajo (Entre E Paloma Y Rio Hurtado)   \n",
       "29                  45     Rio Grande Bajo (Entre E Paloma Y Rio Hurtado)   \n",
       "30                  45     Rio Grande Bajo (Entre E Paloma Y Rio Hurtado)   \n",
       "31                  45     Rio Grande Bajo (Entre E Paloma Y Rio Hurtado)   \n",
       "32                  45     Rio Grande Bajo (Entre E Paloma Y Rio Hurtado)   \n",
       "...                ...                                                ...   \n",
       "1411079             73  Rio Maule Medio (Entre Rio Claro Y Rio Loncomi...   \n",
       "1411080             73  Rio Maule Medio (Entre Rio Claro Y Rio Loncomi...   \n",
       "1411081             73  Rio Maule Medio (Entre Rio Claro Y Rio Loncomi...   \n",
       "1411100             73  Rio Maule Medio (Entre Rio Claro Y Rio Loncomi...   \n",
       "1411101             73  Rio Maule Medio (Entre Rio Claro Y Rio Loncomi...   \n",
       "\n",
       "         ...      fecha caudal  gauge_id                 gauge_name  \\\n",
       "28       ... 1963-12-13   98.1   4540001     Rio Grande En Paloma 1   \n",
       "29       ... 1963-12-24   94.9   4540001     Rio Grande En Paloma 1   \n",
       "30       ... 1963-12-25   98.1   4540001     Rio Grande En Paloma 1   \n",
       "31       ... 1964-02-07   23.0   4540001     Rio Grande En Paloma 1   \n",
       "32       ... 1965-08-19   77.0   4540001     Rio Grande En Paloma 1   \n",
       "...      ...        ...    ...       ...                        ...   \n",
       "1411079  ... 2002-10-18  522.0   7322001  Rio Maule En Longitudinal   \n",
       "1411080  ... 2002-11-17  768.0   7322001  Rio Maule En Longitudinal   \n",
       "1411081  ... 2003-01-08  533.0   7322001  Rio Maule En Longitudinal   \n",
       "1411100  ... 2005-02-04  175.0   7322001  Rio Maule En Longitudinal   \n",
       "1411101  ... 2005-03-23  160.0   7322001  Rio Maule En Longitudinal   \n",
       "\n",
       "        precip_promedio  temp_max_promedio     Season caudal_extremo  \\\n",
       "28                  0.0                NaN  Primavera              1   \n",
       "29                  0.0                NaN  Primavera              1   \n",
       "30                  0.0                NaN  Primavera              1   \n",
       "31                  0.0                NaN     Verano              1   \n",
       "32                  0.0          21.500000   Invierno              1   \n",
       "...                 ...                ...        ...            ...   \n",
       "1411079             0.0          11.150000  Primavera              1   \n",
       "1411080             0.0          14.550000  Primavera              1   \n",
       "1411081             0.0          25.924999     Verano              1   \n",
       "1411100             0.0          28.266666     Verano              1   \n",
       "1411101             0.0          27.075001     Verano              1   \n",
       "\n",
       "         precip_extremo  temp_extremo  \n",
       "28                    0             0  \n",
       "29                    0             0  \n",
       "30                    0             0  \n",
       "31                    0             0  \n",
       "32                    0             0  \n",
       "...                 ...           ...  \n",
       "1411079               0             0  \n",
       "1411080               0             0  \n",
       "1411081               0             0  \n",
       "1411100               0             0  \n",
       "1411101               0             0  \n",
       "\n",
       "[70283 rows x 21 columns]"
      ]
     },
     "execution_count": 15,
     "metadata": {},
     "output_type": "execute_result"
    }
   ],
   "source": [
    "data[data[\"caudal_extremo\"]==1]"
   ]
  },
  {
   "cell_type": "markdown",
   "metadata": {},
   "source": [
    "6. Con el supuesto de que primero queremos ver los casos extremos a nivel de todas las cuencas (para ver como un estado general), posteriormente el mismo analisis pero especificio a una cuenca"
   ]
  },
  {
   "cell_type": "code",
   "execution_count": 16,
   "metadata": {},
   "outputs": [],
   "source": [
    "data[\"año\"] = data['fecha'].apply(lambda x: x.year)"
   ]
  },
  {
   "cell_type": "code",
   "execution_count": 24,
   "metadata": {},
   "outputs": [
    {
     "data": {
      "text/plain": [
       "<function matplotlib.pyplot.show(*args, **kw)>"
      ]
     },
     "execution_count": 24,
     "metadata": {},
     "output_type": "execute_result"
    },
    {
     "data": {
      "image/png": "[encoded data removed]",
      "text/plain": [
       "<Figure size 432x288 with 1 Axes>"
      ]
     },
     "metadata": {
      "needs_background": "light"
     },
     "output_type": "display_data"
    }
   ],
   "source": [
    "porcentaje_caudal = data.groupby([\"año\"])[\"caudal_extremo\"].sum() / data.groupby([\"año\"])[\"caudal\"].count() *100\n",
    "porcentaje_precipitaciones = data.groupby([\"año\"])[\"precip_extremo\"].sum() / data.groupby([\"año\"])[\"precip_promedio\"].count() *100\n",
    "porcentaje_temperaturas = data.groupby([\"año\"])[\"temp_extremo\"].sum() / data.groupby([\"año\"])[\"temp_max_promedio\"].count() *100\n",
    "plt.plot(porcentaje_caudal,'r',label='caudal')\n",
    "plt.plot(porcentaje_precipitaciones,'g',label='precip')\n",
    "plt.plot(porcentaje_temperaturas,'b',label='temp')\n",
    "plt.legend()\n",
    "plt.show"
   ]
  },
  {
   "cell_type": "code",
   "execution_count": 59,
   "metadata": {},
   "outputs": [],
   "source": [
    "aux_caudal = data.loc[(data[\"codigo_cuenca\"]==45)].groupby([\"año\",\"Season\"])[\"caudal_extremo\"].sum() / data.loc[(data[\"codigo_cuenca\"]==45)].groupby([\"año\",\"Season\"])[\"caudal\"].count() *100"
   ]
  },
  {
   "cell_type": "code",
   "execution_count": 69,
   "metadata": {},
   "outputs": [
    {
     "data": {
      "image/png": "[encoded data removed]",
      "text/plain": [
       "<Figure size 432x288 with 4 Axes>"
      ]
     },
     "metadata": {
      "needs_background": "light"
     },
     "output_type": "display_data"
    }
   ],
   "source": [
    "f, graf_caudal_45 = plt.subplots(2,2)\n",
    "graf_caudal_45[0][0].plot(aux_caudal.unstack(level=1)[\"Invierno\"])\n",
    "graf_caudal_45[0][0].set_title(\"Invierno\")\n",
    "graf_caudal_45[0][1].plot(aux_caudal.unstack(level=1)[\"Primavera\"])\n",
    "graf_caudal_45[0][1].set_title(\"Primavera\")\n",
    "graf_caudal_45[1][0].plot(aux_caudal.unstack(level=1)[\"Otoño\"])\n",
    "graf_caudal_45[1][0].set_title(\"Otoño\")\n",
    "graf_caudal_45[1][1].plot(aux_caudal.unstack(level=1)[\"Verano\"])\n",
    "graf_caudal_45[1][1].set_title(\"Verano\")\n",
    "plt.show()"
   ]
  },
  {
   "cell_type": "markdown",
   "metadata": {},
   "source": [
    "7. Para entrenar el modelo primero vamos a tomar la data solo de los ultimos 5 años {2012-2017}, y nuestra muestra de prueba sera el año mas actualizado {2018}(considero este supuesto por las condiciones similares que pueden haber en 5 años vs mas tiempo)"
   ]
  },
  {
   "cell_type": "code",
   "execution_count": 100,
   "metadata": {},
   "outputs": [],
   "source": [
    "Fecha_Inicio = pd.Timestamp('2012-01-01')\n",
    "Fecha_Termino = pd.Timestamp('2017-12-31')\n",
    "x_muestra = data.loc[(data['fecha']>Fecha_Inicio) & (data['fecha']<Fecha_Termino)]\n",
    "x_comparacion = data.loc[(data['fecha']>Fecha_Termino)]"
   ]
  },
  {
   "cell_type": "markdown",
   "metadata": {},
   "source": [
    "Como algunos datos son texto, los vamos a eliminar/modificar segun el caso (elimino los nombres porque tengo los id"
   ]
  },
  {
   "cell_type": "code",
   "execution_count": 101,
   "metadata": {},
   "outputs": [],
   "source": [
    "x_muestra = x_muestra.drop(columns=['institucion','fuente','nombre','nombre_sub_cuenca','codigo_cuenca','gauge_name','fecha'])\n",
    "x_muestra['Season'] = preprocessing.LabelEncoder().fit_transform(x_muestra['Season'])\n",
    "x_muestra = x_muestra.dropna()\n",
    "y_muestra = x_muestra['caudal_extremo']\n",
    "x_muestra = x_muestra.drop(columns=['caudal_extremo'])\n",
    "x_comparacion = x_comparacion.drop(columns=['institucion','fuente','nombre','nombre_sub_cuenca','codigo_cuenca','gauge_name','fecha'])\n",
    "x_comparacion['Season'] = preprocessing.LabelEncoder().fit_transform(x_comparacion['Season'])\n",
    "x_comparacion = x_comparacion.dropna()\n",
    "y_comparacion = x_comparacion['caudal_extremo']\n",
    "x_comparacion = x_comparacion.drop(columns=['caudal_extremo'])"
   ]
  },
  {
   "cell_type": "code",
   "execution_count": 102,
   "metadata": {},
   "outputs": [
    {
     "name": "stdout",
     "output_type": "stream",
     "text": [
      "<class 'pandas.core.frame.DataFrame'>\n",
      "Int64Index: 190141 entries, 235 to 1411176\n",
      "Data columns (total 14 columns):\n",
      " #   Column                  Non-Null Count   Dtype  \n",
      "---  ------                  --------------   -----  \n",
      " 0   Unnamed: 0              190141 non-null  int64  \n",
      " 1   codigo_estacion         190141 non-null  int64  \n",
      " 2   altura                  190141 non-null  int64  \n",
      " 3   latitud                 190141 non-null  float64\n",
      " 4   longitud                190141 non-null  float64\n",
      " 5   cantidad_observaciones  190141 non-null  int64  \n",
      " 6   caudal                  190141 non-null  float64\n",
      " 7   gauge_id                190141 non-null  int64  \n",
      " 8   precip_promedio         190141 non-null  float64\n",
      " 9   temp_max_promedio       190141 non-null  float64\n",
      " 10  Season                  190141 non-null  int64  \n",
      " 11  precip_extremo          190141 non-null  int64  \n",
      " 12  temp_extremo            190141 non-null  int64  \n",
      " 13  año                     190141 non-null  int64  \n",
      "dtypes: float64(5), int64(9)\n",
      "memory usage: 21.8 MB\n"
     ]
    }
   ],
   "source": [
    "x_muestra.info()"
   ]
  },
  {
   "cell_type": "code",
   "execution_count": 103,
   "metadata": {},
   "outputs": [
    {
     "data": {
      "text/plain": [
       "SVC(C=1.0, break_ties=False, cache_size=200, class_weight=None, coef0=0.0,\n",
       "    decision_function_shape='ovr', degree=3, gamma='scale', kernel='rbf',\n",
       "    max_iter=-1, probability=False, random_state=None, shrinking=True,\n",
       "    tol=0.001, verbose=False)"
      ]
     },
     "execution_count": 103,
     "metadata": {},
     "output_type": "execute_result"
    }
   ],
   "source": [
    "clf = svm.SVC()\n",
    "clf.fit(x_muestra,y_muestra)"
   ]
  },
  {
   "cell_type": "code",
   "execution_count": 104,
   "metadata": {},
   "outputs": [],
   "source": [
    "y_predict = clf.predict(x_comparacion)"
   ]
  },
  {
   "cell_type": "code",
   "execution_count": 105,
   "metadata": {},
   "outputs": [
    {
     "name": "stdout",
     "output_type": "stream",
     "text": [
      "0.9322289156626506\n"
     ]
    }
   ],
   "source": [
    "acc = metrics.accuracy_score(y_predict,y_comparacion)\n",
    "print(acc)"
   ]
  },
  {
   "cell_type": "code",
   "execution_count": null,
   "metadata": {},
   "outputs": [],
   "source": []
  }
 ],
 "metadata": {
  "kernelspec": {
   "display_name": "Python 3",
   "language": "python",
   "name": "python3"
  },
  "language_info": {
   "codemirror_mode": {
    "name": "ipython",
    "version": 3
   },
   "file_extension": ".py",
   "mimetype": "text/x-python",
   "name": "python",
   "nbconvert_exporter": "python",
   "pygments_lexer": "ipython3",
   "version": "3.7.6"
  }
 },
 "nbformat": 4,
 "nbformat_minor": 4
}
