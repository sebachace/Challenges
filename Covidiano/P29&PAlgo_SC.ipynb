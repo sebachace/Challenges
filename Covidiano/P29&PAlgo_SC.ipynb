{
 "cells": [
  {
   "cell_type": "code",
   "execution_count": 2,
   "metadata": {},
   "outputs": [],
   "source": [
    "import pandas as pd"
   ]
  },
  {
   "cell_type": "code",
   "execution_count": 3,
   "metadata": {},
   "outputs": [],
   "source": [
    "prod29_hist_url = r\"https://raw.githubusercontent.com/MinCiencia/Datos-COVID19/master/output/producto29/Cuarentenas-Historicas.csv\"\n",
    "prod29_activ_url = r\"https://raw.githubusercontent.com/MinCiencia/Datos-COVID19/master/output/producto29/Cuarentenas-Activas.csv\"\n",
    "prod29_total_url = r\"https://raw.githubusercontent.com/MinCiencia/Datos-COVID19/master/output/producto29/Cuarentenas-Totales.csv\"\n",
    "\n",
    "p29_hist = pd.read_csv(prod29_hist_url, error_bad_lines=False)\n",
    "p29_activ = pd.read_csv(prod29_activ_url, error_bad_lines=False)\n",
    "p29_total = pd.read_csv(prod29_total_url, error_bad_lines=False)"
   ]
  },
  {
   "cell_type": "code",
   "execution_count": 15,
   "metadata": {},
   "outputs": [
    {
     "data": {
      "text/html": [
       "<div>\n",
       "<style scoped>\n",
       "    .dataframe tbody tr th:only-of-type {\n",
       "        vertical-align: middle;\n",
       "    }\n",
       "\n",
       "    .dataframe tbody tr th {\n",
       "        vertical-align: top;\n",
       "    }\n",
       "\n",
       "    .dataframe thead th {\n",
       "        text-align: right;\n",
       "    }\n",
       "</style>\n",
       "<table border=\"1\" class=\"dataframe\">\n",
       "  <thead>\n",
       "    <tr style=\"text-align: right;\">\n",
       "      <th></th>\n",
       "      <th>ID</th>\n",
       "      <th>Nombre</th>\n",
       "      <th>Estado</th>\n",
       "      <th>Alcance</th>\n",
       "      <th>Fecha de Inicio</th>\n",
       "      <th>Fecha de Término</th>\n",
       "      <th>Código CUT Comuna</th>\n",
       "      <th>Detalle</th>\n",
       "      <th>Superficie en m2</th>\n",
       "      <th>Perímetro en m</th>\n",
       "    </tr>\n",
       "  </thead>\n",
       "  <tbody>\n",
       "    <tr>\n",
       "      <th>0</th>\n",
       "      <td>1</td>\n",
       "      <td>Arica</td>\n",
       "      <td>Histórica</td>\n",
       "      <td>Área Urbana Completa</td>\n",
       "      <td>2020-04-16 22:00:00</td>\n",
       "      <td>2020-05-15 22:00:00</td>\n",
       "      <td>15101</td>\n",
       "      <td>Corresponde al Radio Urbano de la Ciudad de Ar...</td>\n",
       "      <td>2.805042e+07</td>\n",
       "      <td>48722.300013</td>\n",
       "    </tr>\n",
       "    <tr>\n",
       "      <th>1</th>\n",
       "      <td>2</td>\n",
       "      <td>Santiago Norte</td>\n",
       "      <td>Histórica</td>\n",
       "      <td>Sector Específico</td>\n",
       "      <td>2020-04-13 05:00:00</td>\n",
       "      <td>2020-05-05 22:00:00</td>\n",
       "      <td>13101</td>\n",
       "      <td>Corresponde a la extensión de la cuarentena en...</td>\n",
       "      <td>1.993922e+07</td>\n",
       "      <td>21599.351343</td>\n",
       "    </tr>\n",
       "  </tbody>\n",
       "</table>\n",
       "</div>"
      ],
      "text/plain": [
       "   ID          Nombre     Estado               Alcance     Fecha de Inicio  \\\n",
       "0   1           Arica  Histórica  Área Urbana Completa 2020-04-16 22:00:00   \n",
       "1   2  Santiago Norte  Histórica     Sector Específico 2020-04-13 05:00:00   \n",
       "\n",
       "     Fecha de Término  Código CUT Comuna  \\\n",
       "0 2020-05-15 22:00:00              15101   \n",
       "1 2020-05-05 22:00:00              13101   \n",
       "\n",
       "                                             Detalle  Superficie en m2  \\\n",
       "0  Corresponde al Radio Urbano de la Ciudad de Ar...      2.805042e+07   \n",
       "1  Corresponde a la extensión de la cuarentena en...      1.993922e+07   \n",
       "\n",
       "   Perímetro en m  \n",
       "0    48722.300013  \n",
       "1    21599.351343  "
      ]
     },
     "execution_count": 15,
     "metadata": {},
     "output_type": "execute_result"
    }
   ],
   "source": [
    "p29_hist[\"Fecha de Inicio\"] = p29_hist[\"Fecha de Inicio\"].astype('datetime64[ns]')\n",
    "p29_hist[\"Fecha de Término\"] = p29_hist[\"Fecha de Término\"].astype('datetime64[ns]')\n",
    "p29_hist.head(2)"
   ]
  },
  {
   "cell_type": "code",
   "execution_count": 16,
   "metadata": {
    "collapsed": true
   },
   "outputs": [
    {
     "data": {
      "text/plain": [
       "ID                            int64\n",
       "Nombre                       object\n",
       "Estado                       object\n",
       "Alcance                      object\n",
       "Fecha de Inicio      datetime64[ns]\n",
       "Fecha de Término     datetime64[ns]\n",
       "Código CUT Comuna             int64\n",
       "Detalle                      object\n",
       "Superficie en m2            float64\n",
       "Perímetro en m              float64\n",
       "dtype: object"
      ]
     },
     "execution_count": 16,
     "metadata": {},
     "output_type": "execute_result"
    }
   ],
   "source": [
    "p29_hist.dtypes"
   ]
  },
  {
   "cell_type": "code",
   "execution_count": 17,
   "metadata": {},
   "outputs": [
    {
     "data": {
      "text/html": [
       "<div>\n",
       "<style scoped>\n",
       "    .dataframe tbody tr th:only-of-type {\n",
       "        vertical-align: middle;\n",
       "    }\n",
       "\n",
       "    .dataframe tbody tr th {\n",
       "        vertical-align: top;\n",
       "    }\n",
       "\n",
       "    .dataframe thead th {\n",
       "        text-align: right;\n",
       "    }\n",
       "</style>\n",
       "<table border=\"1\" class=\"dataframe\">\n",
       "  <thead>\n",
       "    <tr style=\"text-align: right;\">\n",
       "      <th></th>\n",
       "      <th>ID</th>\n",
       "      <th>Nombre</th>\n",
       "      <th>Estado</th>\n",
       "      <th>Alcance</th>\n",
       "      <th>Fecha de Inicio</th>\n",
       "      <th>Fecha de Término</th>\n",
       "      <th>Código CUT Comuna</th>\n",
       "      <th>Detalle</th>\n",
       "      <th>Superficie en m2</th>\n",
       "      <th>Perímetro en m</th>\n",
       "    </tr>\n",
       "  </thead>\n",
       "  <tbody>\n",
       "    <tr>\n",
       "      <th>0</th>\n",
       "      <td>4</td>\n",
       "      <td>El Bosque</td>\n",
       "      <td>Activa</td>\n",
       "      <td>Comuna completa</td>\n",
       "      <td>2020-04-16 22:00:00</td>\n",
       "      <td>NaT</td>\n",
       "      <td>13105</td>\n",
       "      <td>Aplicada a la totalidad de la comuna. Se incor...</td>\n",
       "      <td>2.062271e+07</td>\n",
       "      <td>18788.870751</td>\n",
       "    </tr>\n",
       "    <tr>\n",
       "      <th>1</th>\n",
       "      <td>26</td>\n",
       "      <td>Quinta Normal</td>\n",
       "      <td>Activa</td>\n",
       "      <td>Comuna completa</td>\n",
       "      <td>2020-04-23 22:00:00</td>\n",
       "      <td>NaT</td>\n",
       "      <td>13126</td>\n",
       "      <td>Aplicada a la totalidad de la comuna. Se incor...</td>\n",
       "      <td>1.701414e+07</td>\n",
       "      <td>21243.797017</td>\n",
       "    </tr>\n",
       "  </tbody>\n",
       "</table>\n",
       "</div>"
      ],
      "text/plain": [
       "   ID         Nombre  Estado          Alcance     Fecha de Inicio  \\\n",
       "0   4      El Bosque  Activa  Comuna completa 2020-04-16 22:00:00   \n",
       "1  26  Quinta Normal  Activa  Comuna completa 2020-04-23 22:00:00   \n",
       "\n",
       "  Fecha de Término  Código CUT Comuna  \\\n",
       "0              NaT              13105   \n",
       "1              NaT              13126   \n",
       "\n",
       "                                             Detalle  Superficie en m2  \\\n",
       "0  Aplicada a la totalidad de la comuna. Se incor...      2.062271e+07   \n",
       "1  Aplicada a la totalidad de la comuna. Se incor...      1.701414e+07   \n",
       "\n",
       "   Perímetro en m  \n",
       "0    18788.870751  \n",
       "1    21243.797017  "
      ]
     },
     "execution_count": 17,
     "metadata": {},
     "output_type": "execute_result"
    }
   ],
   "source": [
    "p29_activ[\"Fecha de Inicio\"] = p29_activ[\"Fecha de Inicio\"].astype('datetime64[ns]')\n",
    "p29_activ[\"Fecha de Término\"] = p29_activ[\"Fecha de Término\"].astype('datetime64[ns]')\n",
    "p29_activ.head(2)"
   ]
  },
  {
   "cell_type": "code",
   "execution_count": 18,
   "metadata": {},
   "outputs": [
    {
     "data": {
      "text/plain": [
       "ID                            int64\n",
       "Nombre                       object\n",
       "Estado                       object\n",
       "Alcance                      object\n",
       "Fecha de Inicio      datetime64[ns]\n",
       "Fecha de Término     datetime64[ns]\n",
       "Código CUT Comuna             int64\n",
       "Detalle                      object\n",
       "Superficie en m2            float64\n",
       "Perímetro en m              float64\n",
       "dtype: object"
      ]
     },
     "execution_count": 18,
     "metadata": {},
     "output_type": "execute_result"
    }
   ],
   "source": [
    "p29_activ.dtypes"
   ]
  },
  {
   "cell_type": "code",
   "execution_count": 19,
   "metadata": {},
   "outputs": [
    {
     "data": {
      "text/html": [
       "<div>\n",
       "<style scoped>\n",
       "    .dataframe tbody tr th:only-of-type {\n",
       "        vertical-align: middle;\n",
       "    }\n",
       "\n",
       "    .dataframe tbody tr th {\n",
       "        vertical-align: top;\n",
       "    }\n",
       "\n",
       "    .dataframe thead th {\n",
       "        text-align: right;\n",
       "    }\n",
       "</style>\n",
       "<table border=\"1\" class=\"dataframe\">\n",
       "  <thead>\n",
       "    <tr style=\"text-align: right;\">\n",
       "      <th></th>\n",
       "      <th>ID</th>\n",
       "      <th>Nombre</th>\n",
       "      <th>Estado</th>\n",
       "      <th>Alcance</th>\n",
       "      <th>Fecha de Inicio</th>\n",
       "      <th>Fecha de Término</th>\n",
       "      <th>Código CUT Comuna</th>\n",
       "      <th>Detalle</th>\n",
       "      <th>Superficie en m2</th>\n",
       "      <th>Perímetro en m</th>\n",
       "      <th>Region</th>\n",
       "      <th>n_REGION</th>\n",
       "    </tr>\n",
       "  </thead>\n",
       "  <tbody>\n",
       "    <tr>\n",
       "      <th>0</th>\n",
       "      <td>1</td>\n",
       "      <td>Arica</td>\n",
       "      <td>Histórica</td>\n",
       "      <td>Área Urbana Completa</td>\n",
       "      <td>2020-04-16 22:00:00</td>\n",
       "      <td>2020-05-15 22:00:00</td>\n",
       "      <td>15101</td>\n",
       "      <td>Corresponde al Radio Urbano de la Ciudad de Ar...</td>\n",
       "      <td>28050418.80</td>\n",
       "      <td>48722.30001</td>\n",
       "      <td>15</td>\n",
       "      <td>R15</td>\n",
       "    </tr>\n",
       "    <tr>\n",
       "      <th>1</th>\n",
       "      <td>2</td>\n",
       "      <td>Santiago Norte</td>\n",
       "      <td>Histórica</td>\n",
       "      <td>Sector Específico</td>\n",
       "      <td>2020-04-13 05:00:00</td>\n",
       "      <td>2020-05-05 22:00:00</td>\n",
       "      <td>13101</td>\n",
       "      <td>Corresponde a la extensión de la cuarentena en...</td>\n",
       "      <td>19939218.57</td>\n",
       "      <td>21599.35134</td>\n",
       "      <td>13</td>\n",
       "      <td>R13</td>\n",
       "    </tr>\n",
       "  </tbody>\n",
       "</table>\n",
       "</div>"
      ],
      "text/plain": [
       "   ID          Nombre     Estado               Alcance     Fecha de Inicio  \\\n",
       "0   1           Arica  Histórica  Área Urbana Completa 2020-04-16 22:00:00   \n",
       "1   2  Santiago Norte  Histórica     Sector Específico 2020-04-13 05:00:00   \n",
       "\n",
       "     Fecha de Término  Código CUT Comuna  \\\n",
       "0 2020-05-15 22:00:00              15101   \n",
       "1 2020-05-05 22:00:00              13101   \n",
       "\n",
       "                                             Detalle  Superficie en m2  \\\n",
       "0  Corresponde al Radio Urbano de la Ciudad de Ar...       28050418.80   \n",
       "1  Corresponde a la extensión de la cuarentena en...       19939218.57   \n",
       "\n",
       "   Perímetro en m  Region n_REGION  \n",
       "0     48722.30001      15      R15  \n",
       "1     21599.35134      13      R13  "
      ]
     },
     "execution_count": 19,
     "metadata": {},
     "output_type": "execute_result"
    }
   ],
   "source": [
    "p29_total[\"Fecha de Inicio\"] = p29_total[\"Fecha de Inicio\"].astype('datetime64[ns]')\n",
    "p29_total[\"Fecha de Término\"] = p29_total[\"Fecha de Término\"].astype('datetime64[ns]')\n",
    "p29_total.head(2)"
   ]
  },
  {
   "cell_type": "code",
   "execution_count": 20,
   "metadata": {},
   "outputs": [
    {
     "data": {
      "text/plain": [
       "ID                            int64\n",
       "Nombre                       object\n",
       "Estado                       object\n",
       "Alcance                      object\n",
       "Fecha de Inicio      datetime64[ns]\n",
       "Fecha de Término     datetime64[ns]\n",
       "Código CUT Comuna             int64\n",
       "Detalle                      object\n",
       "Superficie en m2            float64\n",
       "Perímetro en m              float64\n",
       "Region                        int64\n",
       "n_REGION                     object\n",
       "dtype: object"
      ]
     },
     "execution_count": 20,
     "metadata": {},
     "output_type": "execute_result"
    }
   ],
   "source": [
    "p29_total.dtypes"
   ]
  },
  {
   "cell_type": "code",
   "execution_count": null,
   "metadata": {},
   "outputs": [],
   "source": []
  }
 ],
 "metadata": {
  "kernelspec": {
   "display_name": "Python 3",
   "language": "python",
   "name": "python3"
  },
  "language_info": {
   "codemirror_mode": {
    "name": "ipython",
    "version": 3
   },
   "file_extension": ".py",
   "mimetype": "text/x-python",
   "name": "python",
   "nbconvert_exporter": "python",
   "pygments_lexer": "ipython3",
   "version": "3.6.5"
  }
 },
 "nbformat": 4,
 "nbformat_minor": 4
}
